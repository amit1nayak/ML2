{
 "cells": [
  {
   "cell_type": "markdown",
   "metadata": {},
   "source": [
    "<table align=\"center\" width=100%>\n",
    "    <tr>\n",
    "        <td width=\"15%\">\n",
    "            <img src=\"homework.png\">\n",
    "        </td>\n",
    "        <td>\n",
    "            <div align=\"center\">\n",
    "                <font color=\"#21618C\" size=8px>\n",
    "                    <b> Take-Home <br>(Session 5)\n",
    "                    </b>\n",
    "                </font>\n",
    "            </div>\n",
    "        </td>\n",
    "    </tr>\n",
    "</table>"
   ]
  },
  {
   "cell_type": "markdown",
   "metadata": {},
   "source": [
    "#### Import the required libraries"
   ]
  },
  {
   "cell_type": "code",
   "execution_count": 1,
   "metadata": {},
   "outputs": [],
   "source": [
    "# import 'Pandas' \n",
    "import pandas as pd \n",
    "\n",
    "# import 'Numpy' \n",
    "import numpy as np\n",
    "\n",
    "# import subpackage of Matplotlib\n",
    "import matplotlib.pyplot as plt\n",
    "from matplotlib.colors import ListedColormap\n",
    "\n",
    "# import 'Seaborn' \n",
    "import seaborn as sns\n",
    "\n",
    "# to suppress warnings \n",
    "from warnings import filterwarnings\n",
    "filterwarnings('ignore')\n",
    "\n",
    "# to display the float values upto 4 decimal places     \n",
    "pd.options.display.float_format = '{:.4f}'.format\n",
    "\n",
    "# import train-test split \n",
    "from sklearn.model_selection import train_test_split\n",
    "\n",
    "# import StandardScaler to perform scaling\n",
    "from sklearn.preprocessing import StandardScaler \n",
    "\n",
    "# import various functions from sklearn \n",
    "from sklearn import metrics\n",
    "from sklearn.metrics import confusion_matrix\n",
    "from sklearn.metrics import classification_report\n",
    "from sklearn.tree import DecisionTreeClassifier\n",
    "from sklearn.ensemble import RandomForestClassifier\n",
    "from sklearn import tree\n",
    "from sklearn.model_selection import GridSearchCV\n",
    "\n",
    "# import the functions for visualizing the decision tree\n",
    "import pydotplus\n",
    "from IPython.display import Image  "
   ]
  },
  {
   "cell_type": "code",
   "execution_count": 2,
   "metadata": {},
   "outputs": [],
   "source": [
    "# set the plot size using 'rcParams'\n",
    "# once the plot size is set using 'rcParams', it sets the size of all the forthcoming plots in the file\n",
    "# pass width and height in inches to 'figure.figsize' \n",
    "plt.rcParams['figure.figsize'] = [15,8]"
   ]
  },
  {
   "cell_type": "markdown",
   "metadata": {},
   "source": [
    "#### Read the data\n",
    "\n",
    "Load the csv file and print the first five observations."
   ]
  },
  {
   "cell_type": "code",
   "execution_count": 3,
   "metadata": {},
   "outputs": [
    {
     "data": {
      "text/html": [
       "<div>\n",
       "<style scoped>\n",
       "    .dataframe tbody tr th:only-of-type {\n",
       "        vertical-align: middle;\n",
       "    }\n",
       "\n",
       "    .dataframe tbody tr th {\n",
       "        vertical-align: top;\n",
       "    }\n",
       "\n",
       "    .dataframe thead th {\n",
       "        text-align: right;\n",
       "    }\n",
       "</style>\n",
       "<table border=\"1\" class=\"dataframe\">\n",
       "  <thead>\n",
       "    <tr style=\"text-align: right;\">\n",
       "      <th></th>\n",
       "      <th>Area</th>\n",
       "      <th>Perimeter</th>\n",
       "      <th>Kernel_len</th>\n",
       "      <th>Kernel_width</th>\n",
       "      <th>Kernelgroove_len</th>\n",
       "      <th>Type</th>\n",
       "    </tr>\n",
       "  </thead>\n",
       "  <tbody>\n",
       "    <tr>\n",
       "      <th>0</th>\n",
       "      <td>12.7600</td>\n",
       "      <td>13.3800</td>\n",
       "      <td>5.0730</td>\n",
       "      <td>3.1550</td>\n",
       "      <td>4.8300</td>\n",
       "      <td>0</td>\n",
       "    </tr>\n",
       "    <tr>\n",
       "      <th>1</th>\n",
       "      <td>12.1300</td>\n",
       "      <td>13.7300</td>\n",
       "      <td>5.3940</td>\n",
       "      <td>3.7450</td>\n",
       "      <td>5.2200</td>\n",
       "      <td>0</td>\n",
       "    </tr>\n",
       "    <tr>\n",
       "      <th>2</th>\n",
       "      <td>14.8600</td>\n",
       "      <td>14.6700</td>\n",
       "      <td>5.6780</td>\n",
       "      <td>3.2580</td>\n",
       "      <td>5.3510</td>\n",
       "      <td>0</td>\n",
       "    </tr>\n",
       "    <tr>\n",
       "      <th>3</th>\n",
       "      <td>15.6900</td>\n",
       "      <td>14.7500</td>\n",
       "      <td>5.5270</td>\n",
       "      <td>3.5140</td>\n",
       "      <td>5.0460</td>\n",
       "      <td>0</td>\n",
       "    </tr>\n",
       "    <tr>\n",
       "      <th>4</th>\n",
       "      <td>19.9400</td>\n",
       "      <td>16.9200</td>\n",
       "      <td>6.6750</td>\n",
       "      <td>3.7630</td>\n",
       "      <td>6.5500</td>\n",
       "      <td>1</td>\n",
       "    </tr>\n",
       "  </tbody>\n",
       "</table>\n",
       "</div>"
      ],
      "text/plain": [
       "     Area  Perimeter  Kernel_len  Kernel_width  Kernelgroove_len  Type\n",
       "0 12.7600    13.3800      5.0730        3.1550            4.8300     0\n",
       "1 12.1300    13.7300      5.3940        3.7450            5.2200     0\n",
       "2 14.8600    14.6700      5.6780        3.2580            5.3510     0\n",
       "3 15.6900    14.7500      5.5270        3.5140            5.0460     0\n",
       "4 19.9400    16.9200      6.6750        3.7630            6.5500     1"
      ]
     },
     "execution_count": 3,
     "metadata": {},
     "output_type": "execute_result"
    }
   ],
   "source": [
    "# read the data\n",
    "df_seed = pd.read_csv(\"seeds_dataset.csv\")\n",
    "\n",
    "# display the first five rows of the data\n",
    "df_seed.head()"
   ]
  },
  {
   "cell_type": "markdown",
   "metadata": {},
   "source": [
    "**The data definition is as follows:** <br>\n",
    "\n",
    "**Area**: Area of the wheat kernel \n",
    "\n",
    "**Perimeter**: Perimeter of the wheat kernel\n",
    "\n",
    "**Kernel_len**: Length of the wheat kernel\n",
    "\n",
    "**Kernel_width**: Width of the wheat kernel\n",
    "\n",
    "**Kernelgroove_len**: Length of the wheat kernel groove\n",
    "\n",
    "**Type**: Type of the wheat seed (0 = Kama Wheat, 1 = Rosa Wheat) (target/dependent variable)"
   ]
  },
  {
   "cell_type": "markdown",
   "metadata": {},
   "source": [
    "Our objective is to predict whether the wheat seed is of Kama or Rosa type."
   ]
  },
  {
   "cell_type": "markdown",
   "metadata": {},
   "source": [
    "### Let's begin with some hands-on practice exercises"
   ]
  },
  {
   "cell_type": "markdown",
   "metadata": {},
   "source": [
    "<table align=\"left\">\n",
    "    <tr>\n",
    "        <td width=\"6%\">\n",
    "            <img src=\"question_icon.png\">\n",
    "        </td>\n",
    "        <td>\n",
    "            <div align=\"left\", style=\"font-size:120%\">\n",
    "                <font color=\"#21618C\">\n",
    "                    <b>1. Build a decision tree model using the gini criterion. And obtain the number of correctly predicted wheat seeds in the test set</b>\n",
    "                </font>\n",
    "            </div>\n",
    "        </td>\n",
    "    </tr>\n",
    "</table>"
   ]
  },
  {
   "cell_type": "markdown",
   "metadata": {},
   "source": [
    "#### Consider the train-test split in the ratio 70:30 with random state = 1."
   ]
  },
  {
   "cell_type": "markdown",
   "metadata": {},
   "source": [
    "#### Split the dependent and independent variables."
   ]
  },
  {
   "cell_type": "code",
   "execution_count": 4,
   "metadata": {},
   "outputs": [],
   "source": [
    "# split the target and independent variables\n",
    "# store all the independent variables in a dataframe 'df_feature' \n",
    "# drop the column 'Type' using drop()\n",
    "# 'axis = 1' drops the specified column\n",
    "df_feature = df_seed.drop('Type', axis=1)\n",
    "\n",
    "# store the target variable 'Type' in a dataframe 'df_target'\n",
    "df_target = df_seed[\"Type\"]"
   ]
  },
  {
   "cell_type": "markdown",
   "metadata": {},
   "source": [
    "#### Split the data in train and test set."
   ]
  },
  {
   "cell_type": "code",
   "execution_count": 5,
   "metadata": {},
   "outputs": [
    {
     "name": "stdout",
     "output_type": "stream",
     "text": [
      "X_train (139, 5)\n",
      "y_train (139,)\n",
      "X_test (60, 5)\n",
      "y_test (60,)\n"
     ]
    }
   ],
   "source": [
    "# split data into train subset and test subset\n",
    "# set 'random_state' to generate the same dataset each time you run the code \n",
    "# 'test_size' returns the proportion of data to be included in the test set\n",
    "X_train, X_test, y_train, y_test = train_test_split(df_feature, df_target, random_state = 1, test_size = 0.3)\n",
    "\n",
    "# check the dimensions of the train & test subset using 'shape'\n",
    "# print dimension of train set\n",
    "print('X_train', X_train.shape)\n",
    "print('y_train', y_train.shape)\n",
    "\n",
    "# print dimension of test set\n",
    "print('X_test', X_test.shape)\n",
    "print('y_test', y_test.shape)"
   ]
  },
  {
   "cell_type": "markdown",
   "metadata": {},
   "source": [
    "#### Build a decision tree model on the train set using 'gini' criterion."
   ]
  },
  {
   "cell_type": "code",
   "execution_count": 6,
   "metadata": {},
   "outputs": [],
   "source": [
    "# instantiate the 'DecisionTreeClassifier' object using 'gini' criterion\n",
    "# pass the 'random_state' to obtain the same samples for each time you run the code\n",
    "decision_tree_classification = DecisionTreeClassifier(criterion = 'gini', random_state = 1)\n",
    "\n",
    "# fit the model using fit() on train data\n",
    "decision_tree = decision_tree_classification.fit(X_train, y_train)"
   ]
  },
  {
   "cell_type": "markdown",
   "metadata": {},
   "source": [
    "#### Let us plot the confusion matrix. The sum of the diagonal elements in the matrix corresponds to the total correct predictions."
   ]
  },
  {
   "cell_type": "code",
   "execution_count": 7,
   "metadata": {},
   "outputs": [
    {
     "data": {
      "image/png": "[encoded data removed]",
      "text/plain": [
       "<Figure size 1080x576 with 1 Axes>"
      ]
     },
     "metadata": {},
     "output_type": "display_data"
    }
   ],
   "source": [
    "# predict the type for wheat seed for test set\n",
    "y_pred = decision_tree.predict(X_test)\n",
    "\n",
    "# create a confusion matrix\n",
    "# pass the actual and predicted target values to the confusion_matrix()\n",
    "cm = confusion_matrix(y_test, y_pred)\n",
    "\n",
    "# label the confusion matrix  \n",
    "# pass the matrix as 'data'\n",
    "# pass the required column names to the parameter, 'columns'\n",
    "# pass the required row names to the parameter, 'index'\n",
    "conf_matrix = pd.DataFrame(data = cm,columns = ['Predicted:0','Predicted:1'], index = ['Actual:0','Actual:1'])\n",
    "\n",
    "# plot a heatmap to visualize the confusion matrix\n",
    "# 'annot' prints the value of each grid \n",
    "# 'fmt = d' returns the integer value in each grid\n",
    "# 'cmap' assigns color to each grid\n",
    "# as we do not require different colors for each grid in the heatmap,\n",
    "# use 'ListedColormap' to assign the specified color to the grid\n",
    "# 'cbar = False' will not return the color bar to the right side of the heatmap\n",
    "# 'linewidths' assigns the width to the line that divides each grid\n",
    "# 'annot_kws = {'size':25})' assigns the font size of the annotated text \n",
    "sns.heatmap(conf_matrix, annot = True, fmt = 'd', cmap = ListedColormap(['lightblue']), cbar = False, \n",
    "            linewidths = 0.1, annot_kws = {'size':25})\n",
    "\n",
    "# set the font size of x-axis ticks using 'fontsize'\n",
    "plt.xticks(fontsize = 20)\n",
    "\n",
    "# set the font size of y-axis ticks using 'fontsize'\n",
    "plt.yticks(fontsize = 20)\n",
    "\n",
    "# display the plot\n",
    "plt.show()"
   ]
  },
  {
   "cell_type": "markdown",
   "metadata": {},
   "source": [
    "**Interpretation:** The confusion matrix shows that the decision tree has correctly predicted the type of 57 wheat seeds among the 60 observations in the test set."
   ]
  },
  {
   "cell_type": "markdown",
   "metadata": {},
   "source": [
    "<table align=\"left\">\n",
    "    <tr>\n",
    "        <td width=\"6%\">\n",
    "            <img src=\"question_icon.png\">\n",
    "        </td>\n",
    "        <td>\n",
    "            <div align=\"left\", style=\"font-size:120%\">\n",
    "                <font color=\"#21618C\">\n",
    "                    <b>2. Plot a decision tree for the model in the previous question and identify the seed type of the first observation in the test set</b>\n",
    "                </font>\n",
    "            </div>\n",
    "        </td>\n",
    "    </tr>\n",
    "</table>"
   ]
  },
  {
   "cell_type": "code",
   "execution_count": 8,
   "metadata": {},
   "outputs": [
    {
     "data": {
      "image/png": "[encoded data removed]",
      "text/plain": [
       "<IPython.core.display.Image object>"
      ]
     },
     "execution_count": 8,
     "metadata": {},
     "output_type": "execute_result"
    }
   ],
   "source": [
    "# plot a decision tree\n",
    "# save the column names in 'labels'\n",
    "labels = X_train.columns\n",
    "\n",
    "# export a decision tree in DOT format\n",
    "# pass the 'decision_tree' to export it to Graphviz\n",
    "# pass the column names to 'feature_names'\n",
    "# pass the required class labels to 'class_names'\n",
    "dot_data = tree.export_graphviz(decision_tree, feature_names = labels, class_names = [\"Kama\",\"Rosa\"])  \n",
    "\n",
    "# plot the decision tree using DOT format in 'dot_data'\n",
    "graph = pydotplus.graph_from_dot_data(dot_data)  \n",
    "\n",
    "# display the decision tree\n",
    "Image(graph.create_png())"
   ]
  },
  {
   "cell_type": "markdown",
   "metadata": {},
   "source": [
    "Now let us find the seed type of the first observation in the test set."
   ]
  },
  {
   "cell_type": "code",
   "execution_count": 9,
   "metadata": {},
   "outputs": [
    {
     "data": {
      "text/plain": [
       "Area               17.0800\n",
       "Perimeter          15.3800\n",
       "Kernel_len          5.8320\n",
       "Kernel_width        3.6830\n",
       "Kernelgroove_len    5.4840\n",
       "Name: 175, dtype: float64"
      ]
     },
     "execution_count": 9,
     "metadata": {},
     "output_type": "execute_result"
    }
   ],
   "source": [
    "# print the first observation in the test set using iloc()\n",
    "X_test.iloc[0,:]"
   ]
  },
  {
   "cell_type": "markdown",
   "metadata": {},
   "source": [
    "**Interpretation:** The output shows that, `Kernelgroove_len = 5.4840` i.e. it satisfies the condition in the root node.<br>\n",
    "Next, the `Area = 17.0800` which do not satisfy the condition of the internal node (Area <= 15.905).<br> \n",
    "Then, check the 'Kernel_len'. As, `Kernel_len = 5.8320`, it do not satisfy the condition of the internal node (Kernel_len <= 5.537).<br>\n",
    "This leads to the leaf node which assigns the type of wheat seed as `Kama Wheat`."
   ]
  },
  {
   "cell_type": "code",
   "execution_count": 10,
   "metadata": {},
   "outputs": [
    {
     "data": {
      "text/plain": [
       "0"
      ]
     },
     "execution_count": 10,
     "metadata": {},
     "output_type": "execute_result"
    }
   ],
   "source": [
    "# check the first observation in the y_test\n",
    "y_test.iloc[0]"
   ]
  },
  {
   "cell_type": "markdown",
   "metadata": {},
   "source": [
    "'0' indicates the `Kama wheat`."
   ]
  },
  {
   "cell_type": "markdown",
   "metadata": {},
   "source": [
    "<table align=\"left\">\n",
    "    <tr>\n",
    "        <td width=\"6%\">\n",
    "            <img src=\"question_icon.png\">\n",
    "        </td>\n",
    "        <td>\n",
    "            <div align=\"left\", style=\"font-size:120%\">\n",
    "                <font color=\"#21618C\">\n",
    "                    <b>3. Select the optimal number for decision trees from the given list of values to build a random forest using entropy criterion\n",
    "                    </b>\n",
    "                </font>\n",
    "            </div>\n",
    "        </td>\n",
    "    </tr>\n",
    "</table>"
   ]
  },
  {
   "cell_type": "markdown",
   "metadata": {},
   "source": [
    "**Use the given list:**\n",
    "\n",
    "no_of_trees = [6, 8, 10, 12, 14, 16]\n",
    "\n",
    "Consider the train and test set in Q1."
   ]
  },
  {
   "cell_type": "code",
   "execution_count": 11,
   "metadata": {},
   "outputs": [
    {
     "name": "stdout",
     "output_type": "stream",
     "text": [
      "Best parameter for random forest classifier:  {'n_estimators': 8} \n",
      "\n"
     ]
    }
   ],
   "source": [
    "# given list of values\n",
    "no_of_trees = [6, 8, 10, 12, 14, 16]\n",
    "\n",
    "# create a dictionary with hyperparameter and its values\n",
    "# pass a list of values to 'n_estimators' to build the different number of trees in the random forest\n",
    "tuned_paramaters = [{'n_estimators': no_of_trees}]\n",
    " \n",
    "# instantiate the 'RandomForestClassifier' with 'entropy' criterion\n",
    "# pass the 'random_state' to obtain the same samples for each time you run the code\n",
    "random_forest_classification = RandomForestClassifier(criterion = 'entropy', random_state = 1)\n",
    "\n",
    "# use GridSearchCV() to find the optimal value of the hyperparameters\n",
    "# estimator: pass the random forest classifier model\n",
    "# param_grid: pass the 'tuned_parameters'\n",
    "# cv: number of folds in k-fold i.e. here cv = 5\n",
    "rf_grid = GridSearchCV(estimator = random_forest_classification, \n",
    "                       param_grid = tuned_paramaters, \n",
    "                       cv = 5)\n",
    "\n",
    "# use fit() to fit the model on the train set\n",
    "rf_model = rf_grid.fit(X_train, y_train)\n",
    "\n",
    "# get the best parameters\n",
    "print('Best parameter for random forest classifier: ', rf_model.best_params_, '\\n')"
   ]
  },
  {
   "cell_type": "markdown",
   "metadata": {},
   "source": [
    "<table align=\"left\">\n",
    "    <tr>\n",
    "        <td width=\"6%\">\n",
    "            <img src=\"question_icon.png\">\n",
    "        </td>\n",
    "        <td>\n",
    "            <div align=\"left\", style=\"font-size:120%\">\n",
    "                <font color=\"#21618C\">\n",
    "                    <b>4. Identify the most important variable in the random forest build with the optimal number of trees obtained in Q3\n",
    "                    </b>\n",
    "                </font>\n",
    "            </div>\n",
    "        </td>\n",
    "    </tr>\n",
    "</table>"
   ]
  },
  {
   "cell_type": "markdown",
   "metadata": {},
   "source": [
    "Consider the train and test set in Q1.\n",
    "\n",
    "First build the random forest with the `entropy` criterion and optimal number of trees (i.e. 8)"
   ]
  },
  {
   "cell_type": "code",
   "execution_count": 12,
   "metadata": {},
   "outputs": [],
   "source": [
    "# instantiate the 'RandomForestClassifier' with 'entropy' criterion\n",
    "# 'best_params_' returns the dictionary containig best parameter values and parameter name  \n",
    "# 'get()' returns the value of specified parameter\n",
    "# pass the 'random_state' to obtain the same samples for each time you run the code\n",
    "rf_grid_model = RandomForestClassifier(criterion = 'entropy', n_estimators = rf_model.best_params_.get('n_estimators'),\n",
    "                                       random_state = 1)\n",
    "\n",
    "# use fit() to fit the model on the train set\n",
    "rf_grid_model = rf_grid_model.fit(X_train, y_train)"
   ]
  },
  {
   "cell_type": "markdown",
   "metadata": {},
   "source": [
    "Let us create a dataframe to identify the most important feature."
   ]
  },
  {
   "cell_type": "code",
   "execution_count": 13,
   "metadata": {},
   "outputs": [
    {
     "data": {
      "text/html": [
       "<div>\n",
       "<style scoped>\n",
       "    .dataframe tbody tr th:only-of-type {\n",
       "        vertical-align: middle;\n",
       "    }\n",
       "\n",
       "    .dataframe tbody tr th {\n",
       "        vertical-align: top;\n",
       "    }\n",
       "\n",
       "    .dataframe thead th {\n",
       "        text-align: right;\n",
       "    }\n",
       "</style>\n",
       "<table border=\"1\" class=\"dataframe\">\n",
       "  <thead>\n",
       "    <tr style=\"text-align: right;\">\n",
       "      <th></th>\n",
       "      <th>Features</th>\n",
       "      <th>Importance</th>\n",
       "    </tr>\n",
       "  </thead>\n",
       "  <tbody>\n",
       "    <tr>\n",
       "      <th>0</th>\n",
       "      <td>Area</td>\n",
       "      <td>0.3953</td>\n",
       "    </tr>\n",
       "    <tr>\n",
       "      <th>1</th>\n",
       "      <td>Perimeter</td>\n",
       "      <td>0.2147</td>\n",
       "    </tr>\n",
       "    <tr>\n",
       "      <th>2</th>\n",
       "      <td>Kernel_len</td>\n",
       "      <td>0.0295</td>\n",
       "    </tr>\n",
       "    <tr>\n",
       "      <th>3</th>\n",
       "      <td>Kernel_width</td>\n",
       "      <td>0.0189</td>\n",
       "    </tr>\n",
       "    <tr>\n",
       "      <th>4</th>\n",
       "      <td>Kernelgroove_len</td>\n",
       "      <td>0.3416</td>\n",
       "    </tr>\n",
       "  </tbody>\n",
       "</table>\n",
       "</div>"
      ],
      "text/plain": [
       "           Features  Importance\n",
       "0              Area      0.3953\n",
       "1         Perimeter      0.2147\n",
       "2        Kernel_len      0.0295\n",
       "3      Kernel_width      0.0189\n",
       "4  Kernelgroove_len      0.3416"
      ]
     },
     "execution_count": 13,
     "metadata": {},
     "output_type": "execute_result"
    }
   ],
   "source": [
    "# create a dataframe that stores the feature names and their importance\n",
    "important_features = pd.DataFrame({'Features': X_train.columns, \n",
    "                                   'Importance': rf_grid_model.feature_importances_})\n",
    "\n",
    "# print the dataframe\n",
    "important_features"
   ]
  },
  {
   "cell_type": "markdown",
   "metadata": {},
   "source": [
    "**Interpretation:** The above dataframe shows that the feature `Area` is of highest importance."
   ]
  },
  {
   "cell_type": "markdown",
   "metadata": {},
   "source": [
    "<table align=\"left\">\n",
    "    <tr>\n",
    "        <td width=\"6%\">\n",
    "            <img src=\"question_icon.png\">\n",
    "        </td>\n",
    "        <td>\n",
    "            <div align=\"left\", style=\"font-size:120%\">\n",
    "                <font color=\"#21618C\">\n",
    "                    <b>5. Which is the best criterion to build a decision tree for the given dataset?\n",
    "                    </b>\n",
    "                </font>\n",
    "            </div>\n",
    "        </td>\n",
    "    </tr>\n",
    "</table>"
   ]
  },
  {
   "cell_type": "markdown",
   "metadata": {},
   "source": [
    "Consider the train and test set in Q1.\n",
    "\n",
    "Let us use the GridSearchCV method to find the best criterion among the criteria `gini` and `entropy`."
   ]
  },
  {
   "cell_type": "code",
   "execution_count": 14,
   "metadata": {},
   "outputs": [
    {
     "name": "stdout",
     "output_type": "stream",
     "text": [
      "Best parameter for decision tree classifier:  {'criterion': 'entropy'} \n",
      "\n"
     ]
    }
   ],
   "source": [
    "# create a dictionary with hyperparameter and its values\n",
    "# pass the criteria 'entropy' and 'gini' to the parameter, 'criterion' \n",
    "tuned_paramaters = [{'criterion': ['gini', 'entropy']}]\n",
    " \n",
    "# instantiate the 'DecisionTreeClassifier' \n",
    "# pass the 'random_state' to obtain the same samples for each time you run the code\n",
    "decision_tree_classification = DecisionTreeClassifier(random_state = 1)\n",
    "\n",
    "# use GridSearchCV() to find the optimal value of the hyperparameters\n",
    "# estimator: pass the decision tree classifier model\n",
    "# param_grid: pass the 'tuned_parameters'\n",
    "# cv: number of folds in k-fold i.e. here cv = 5\n",
    "tree_grid = GridSearchCV(estimator = decision_tree_classification, \n",
    "                         param_grid = tuned_paramaters, \n",
    "                         cv = 5)\n",
    "\n",
    "# fit the model on X_train and y_train using fit()\n",
    "dt_grid = tree_grid.fit(X_train, y_train)\n",
    "\n",
    "# get the best parameters\n",
    "print('Best parameter for decision tree classifier: ', dt_grid.best_params_, '\\n')"
   ]
  },
  {
   "cell_type": "markdown",
   "metadata": {},
   "source": [
    "<table align=\"left\">\n",
    "    <tr>\n",
    "        <td width=\"6%\">\n",
    "            <img src=\"question_icon.png\">\n",
    "        </td>\n",
    "        <td>\n",
    "            <div align=\"left\", style=\"font-size:120%\">\n",
    "                <font color=\"#21618C\">\n",
    "                    <b>6. Build a random forest containing ten trees and compute the precision and sensitivity of the model from the confusion matrix \n",
    "                    </b>\n",
    "                </font>\n",
    "            </div>\n",
    "        </td>\n",
    "    </tr>\n",
    "</table>"
   ]
  },
  {
   "cell_type": "markdown",
   "metadata": {},
   "source": [
    "Consider the train and test set in Q1."
   ]
  },
  {
   "cell_type": "code",
   "execution_count": 15,
   "metadata": {},
   "outputs": [
    {
     "name": "stdout",
     "output_type": "stream",
     "text": [
      "Precision: 0.9090909090909091\n",
      "Sensitivity: 0.9523809523809523\n"
     ]
    }
   ],
   "source": [
    "# instantiate the 'RandomForestClassifier' \n",
    "# pass the number of decision trees to the parameter, 'n_estimators'\n",
    "# pass the 'random_state' to obtain the same samples for each time you run the code\n",
    "rf_model = RandomForestClassifier(n_estimators = 10, random_state = 1)\n",
    "\n",
    "# use fit() to fit the model on the train set\n",
    "rf_model = rf_grid_model.fit(X_train, y_train)\n",
    "\n",
    "# predict the type for wheat seed for test set\n",
    "y_pred_rf = rf_model.predict(X_test)\n",
    "\n",
    "# create a confusion matrix\n",
    "# pass the actual and predicted target values to the confusion_matrix()\n",
    "cm = confusion_matrix(y_test, y_pred_rf)\n",
    "\n",
    "# calculate the precision value\n",
    "precision = cm[1,1] / (cm[1,1] + cm[0,1])\n",
    "\n",
    "# print the precision value\n",
    "print('Precision:', precision)\n",
    "\n",
    "# calculate the sensitivity\n",
    "sensitivity = cm[1,1] / (cm[1,1] + cm[1,0])\n",
    "\n",
    "# print the sensitivity\n",
    "print('Sensitivity:', sensitivity)"
   ]
  },
  {
   "cell_type": "markdown",
   "metadata": {},
   "source": [
    "<table align=\"left\">\n",
    "    <tr>\n",
    "        <td width=\"6%\">\n",
    "            <img src=\"question_icon.png\">\n",
    "        </td>\n",
    "        <td>\n",
    "            <div align=\"left\", style=\"font-size:120%\">\n",
    "                <font color=\"#21618C\">\n",
    "                    <b>7. Find the optimal depth of the decision tree from the given list of values\n",
    "                    </b>\n",
    "                </font>\n",
    "            </div>\n",
    "        </td>\n",
    "    </tr>\n",
    "</table>"
   ]
  },
  {
   "cell_type": "markdown",
   "metadata": {},
   "source": [
    "**Use the given list:**\n",
    "\n",
    "depth_values = [3, 5, 7, 9]\n",
    "\n",
    "Consider the train and test set in Q1."
   ]
  },
  {
   "cell_type": "code",
   "execution_count": 16,
   "metadata": {},
   "outputs": [
    {
     "name": "stdout",
     "output_type": "stream",
     "text": [
      "Best parameter for decision tree classifier:  {'max_depth': 5} \n",
      "\n"
     ]
    }
   ],
   "source": [
    "# consider the list of values for the hyperparameter 'max_depth' \n",
    "depth_values = [3, 5, 7, 9]\n",
    "\n",
    "# create a dictionary with hyperparameter and its values\n",
    "# pass the list of values to the parameter, 'max_depth' \n",
    "tuned_paramaters = [{'max_depth': depth_values}]\n",
    " \n",
    "# instantiate the 'DecisionTreeClassifier' \n",
    "# pass the 'random_state' to obtain the same samples for each time you run the code\n",
    "decision_tree_classification = DecisionTreeClassifier(random_state = 1)\n",
    "\n",
    "# use GridSearchCV() to find the optimal value of the hyperparameters\n",
    "# estimator: pass the decision tree classifier model\n",
    "# param_grid: pass the 'tuned_parameters'\n",
    "# cv: number of folds in k-fold i.e. here cv = 5\n",
    "tree_grid = GridSearchCV(estimator = decision_tree_classification, \n",
    "                         param_grid = tuned_paramaters, \n",
    "                         cv = 5)\n",
    "\n",
    "# fit the model on X_train and y_train using fit()\n",
    "dt_grid = tree_grid.fit(X_train, y_train)\n",
    "\n",
    "# get the best parameters\n",
    "print('Best parameter for decision tree classifier: ', dt_grid.best_params_, '\\n')"
   ]
  },
  {
   "cell_type": "markdown",
   "metadata": {},
   "source": [
    "<table align=\"left\">\n",
    "    <tr>\n",
    "        <td width=\"6%\">\n",
    "            <img src=\"question_icon.png\">\n",
    "        </td>\n",
    "        <td>\n",
    "            <div align=\"left\", style=\"font-size:120%\">\n",
    "                <font color=\"#21618C\">\n",
    "                    <b>8. Build and plot a decision tree with maximum 5 terminal nodes (use the entropy criterion)\n",
    "                    </b>\n",
    "                </font>\n",
    "            </div>\n",
    "        </td>\n",
    "    </tr>\n",
    "</table>"
   ]
  },
  {
   "cell_type": "markdown",
   "metadata": {},
   "source": [
    "Consider the train and test set in Q1."
   ]
  },
  {
   "cell_type": "code",
   "execution_count": 17,
   "metadata": {},
   "outputs": [
    {
     "data": {
      "image/png": "[encoded data removed]",
      "text/plain": [
       "<IPython.core.display.Image object>"
      ]
     },
     "execution_count": 17,
     "metadata": {},
     "output_type": "execute_result"
    }
   ],
   "source": [
    "# instantiate the 'DecisionTreeClassifier' object using 'entropy' criterion\n",
    "# set 'max_leaf_nodes = 5' to build the tree with maximim 5 leaf/terminal nodes\n",
    "# pass the 'random_state' to obtain the same samples for each time you run the code\n",
    "decision_tree_classification = DecisionTreeClassifier(criterion = 'entropy', max_leaf_nodes = 5, random_state = 1)\n",
    "\n",
    "# fit the model using fit() on train data\n",
    "dt_model = decision_tree_classification.fit(X_train, y_train)\n",
    "\n",
    "# plot a decision tree\n",
    "# save the column names in 'labels'\n",
    "labels = X_train.columns\n",
    "\n",
    "# export a decision tree in DOT format\n",
    "# pass the 'decision_tree' to export it to Graphviz\n",
    "# pass the column names to 'feature_names'\n",
    "# pass the required class labels to 'class_names'\n",
    "dot_data = tree.export_graphviz(dt_model, feature_names = labels, class_names = [\"Kama\",\"Rosa\"])  \n",
    "\n",
    "# plot the decision tree using DOT format in 'dot_data'\n",
    "graph = pydotplus.graph_from_dot_data(dot_data)  \n",
    "\n",
    "# display the decision tree\n",
    "Image(graph.create_png())"
   ]
  },
  {
   "cell_type": "markdown",
   "metadata": {},
   "source": [
    "<table align=\"left\">\n",
    "    <tr>\n",
    "        <td width=\"6%\">\n",
    "            <img src=\"question_icon.png\">\n",
    "        </td>\n",
    "        <td>\n",
    "            <div align=\"left\", style=\"font-size:120%\">\n",
    "                <font color=\"#21618C\">\n",
    "                    <b>9. Build a random forest with entropy criterion such that each leaf node will contain at least three samples. Also calculate the f-1 score and accuracy of the model\n",
    "                    </b>\n",
    "                </font>\n",
    "            </div>\n",
    "        </td>\n",
    "    </tr>\n",
    "</table>"
   ]
  },
  {
   "cell_type": "code",
   "execution_count": 18,
   "metadata": {},
   "outputs": [
    {
     "name": "stdout",
     "output_type": "stream",
     "text": [
      "              precision    recall  f1-score   support\n",
      "\n",
      "           0       0.97      0.92      0.95        39\n",
      "           1       0.87      0.95      0.91        21\n",
      "\n",
      "    accuracy                           0.93        60\n",
      "   macro avg       0.92      0.94      0.93        60\n",
      "weighted avg       0.94      0.93      0.93        60\n",
      "\n"
     ]
    }
   ],
   "source": [
    "# instantiate the 'RandomForestClassifier' using 'entropy' criterion\n",
    "# 'min_samples_leaf' assigns the minimum number of samples required at the leaf/terminal node\n",
    "# pass the 'random_state' to obtain the same samples for each time you run the code\n",
    "rf = RandomForestClassifier(criterion = 'entropy', min_samples_leaf = 3, random_state = 1)\n",
    "\n",
    "# use fit() to fit the model on the train set\n",
    "rf_model = rf.fit(X_train, y_train)\n",
    "\n",
    "# predict the type for wheat seed for test set\n",
    "y_pred_rf = rf_model.predict(X_test)\n",
    "\n",
    "# use the classification_report() to get the f-1 score and accuracy  \n",
    "print(classification_report(y_test, y_pred_rf))"
   ]
  },
  {
   "cell_type": "markdown",
   "metadata": {},
   "source": [
    "<table align=\"left\">\n",
    "    <tr>\n",
    "        <td width=\"6%\">\n",
    "            <img src=\"question_icon.png\">\n",
    "        </td>\n",
    "        <td>\n",
    "            <div align=\"left\", style=\"font-size:120%\">\n",
    "                <font color=\"#21618C\">\n",
    "                    <b>10. Plot a decision tree with the optimal criterion such that it will contain no more than 4 terminal nodes and each terminal node will contain at least 5 observations  \n",
    "                    </b>\n",
    "                </font>\n",
    "            </div>\n",
    "        </td>\n",
    "    </tr>\n",
    "</table>"
   ]
  },
  {
   "cell_type": "markdown",
   "metadata": {},
   "source": [
    "From Q5, it can be concluded that the optimal criterion for the decision tree is `entropy`. "
   ]
  },
  {
   "cell_type": "code",
   "execution_count": 19,
   "metadata": {},
   "outputs": [
    {
     "data": {
      "image/png": "[encoded data removed]",
      "text/plain": [
       "<IPython.core.display.Image object>"
      ]
     },
     "execution_count": 19,
     "metadata": {},
     "output_type": "execute_result"
    }
   ],
   "source": [
    "# instantiate the 'DecisionTreeClassifier' object using 'entropy' criterion\n",
    "# set 'max_leaf_nodes = 4' to build the tree with 4 maximum leaf/terminal nodes\n",
    "# set 'min_samples_leaf = 5' that assigns the minimum number of samples required at the leaf/terminal node\n",
    "# pass the 'random_state' to obtain the same samples for each time you run the code\n",
    "decision_tree = DecisionTreeClassifier(criterion = 'entropy', max_leaf_nodes = 4, min_samples_leaf = 5, random_state = 1)\n",
    "\n",
    "# fit the model using fit() on train data\n",
    "dt_model = decision_tree.fit(X_train, y_train)\n",
    "\n",
    "# plot a decision tree\n",
    "# save the column names in 'labels'\n",
    "labels = X_train.columns\n",
    "\n",
    "# export a decision tree in DOT format\n",
    "# pass the 'decision_tree' to export it to Graphviz\n",
    "# pass the column names to 'feature_names'\n",
    "# pass the required class labels to 'class_names'\n",
    "dot_data = tree.export_graphviz(dt_model, feature_names = labels, class_names = [\"Kama\",\"Rosa\"])  \n",
    "\n",
    "# plot the decision tree using DOT format in 'dot_data'\n",
    "graph = pydotplus.graph_from_dot_data(dot_data)  \n",
    "\n",
    "# display the decision tree\n",
    "Image(graph.create_png())"
   ]
  },
  {
   "cell_type": "markdown",
   "metadata": {},
   "source": [
    "**Interpretation:** The above decision tree contains four terminal nodes and each terminal node contains more than 5 samples."
   ]
  }
 ],
 "metadata": {
  "kernelspec": {
   "display_name": "Python 3",
   "language": "python",
   "name": "python3"
  },
  "language_info": {
   "codemirror_mode": {
    "name": "ipython",
    "version": 3
   },
   "file_extension": ".py",
   "mimetype": "text/x-python",
   "name": "python",
   "nbconvert_exporter": "python",
   "pygments_lexer": "ipython3",
   "version": "3.8.5"
  }
 },
 "nbformat": 4,
 "nbformat_minor": 2
}
