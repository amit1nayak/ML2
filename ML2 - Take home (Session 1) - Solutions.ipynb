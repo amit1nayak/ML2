{
 "cells": [
  {
   "cell_type": "markdown",
   "metadata": {},
   "source": [
    "<table align=\"center\" width=100%>\n",
    "    <tr>\n",
    "        <td width=\"15%\">\n",
    "            <img src=\"homework.png\">\n",
    "        </td>\n",
    "        <td>\n",
    "            <div align=\"center\">\n",
    "                <font color=\"#21618C\" size=8px>\n",
    "                    <b> Take-Home <br>(Session 1)\n",
    "                    </b>\n",
    "                </font>\n",
    "            </div>\n",
    "        </td>\n",
    "    </tr>\n",
    "</table>"
   ]
  },
  {
   "cell_type": "markdown",
   "metadata": {},
   "source": [
    "#### Import the required libraries"
   ]
  },
  {
   "cell_type": "code",
   "execution_count": 1,
   "metadata": {},
   "outputs": [],
   "source": [
    "# import 'Pandas' \n",
    "import pandas as pd \n",
    "\n",
    "# import 'Numpy' \n",
    "import numpy as np\n",
    "\n",
    "# import subpackage of Matplotlib\n",
    "import matplotlib.pyplot as plt\n",
    "from matplotlib.colors import ListedColormap\n",
    "\n",
    "# import 'Seaborn' \n",
    "import seaborn as sns\n",
    "\n",
    "# to suppress warnings \n",
    "from warnings import filterwarnings\n",
    "filterwarnings('ignore')\n",
    "\n",
    "# display all columns of the dataframe\n",
    "pd.options.display.max_columns = None\n",
    "\n",
    "# display all rows of the dataframe\n",
    "pd.options.display.max_rows = None\n",
    " \n",
    "# to display the float values upto 6 decimal places     \n",
    "pd.options.display.float_format = '{:.6f}'.format\n",
    "\n",
    "# import train-test split \n",
    "from sklearn.model_selection import train_test_split\n",
    "\n",
    "# import various functions from statsmodels\n",
    "import statsmodels\n",
    "import statsmodels.api as sm\n",
    "from statsmodels.stats.outliers_influence import variance_inflation_factor\n",
    "\n",
    "# import StandardScaler to perform scaling\n",
    "from sklearn.preprocessing import StandardScaler \n",
    "\n",
    "# import various functions from sklearn \n",
    "from sklearn import metrics\n",
    "from sklearn.linear_model import LogisticRegression\n",
    "from sklearn.metrics import classification_report\n",
    "from sklearn.metrics import cohen_kappa_score\n",
    "from sklearn.metrics import confusion_matrix\n",
    "from sklearn.metrics import roc_curve\n",
    "\n",
    "# import function to perform feature selection\n",
    "from sklearn.feature_selection import RFE"
   ]
  },
  {
   "cell_type": "code",
   "execution_count": 2,
   "metadata": {},
   "outputs": [],
   "source": [
    "# set the plot size using 'rcParams'\n",
    "# once the plot size is set using 'rcParams', it sets the size of all the forthcoming plots in the file\n",
    "# pass width and height in inches to 'figure.figsize' \n",
    "plt.rcParams['figure.figsize'] = [15,8]"
   ]
  },
  {
   "cell_type": "markdown",
   "metadata": {},
   "source": [
    "#### Read the data\n",
    "\n",
    "Load the csv file and print the first five observations."
   ]
  },
  {
   "cell_type": "code",
   "execution_count": 3,
   "metadata": {},
   "outputs": [
    {
     "data": {
      "text/html": [
       "<div>\n",
       "<style scoped>\n",
       "    .dataframe tbody tr th:only-of-type {\n",
       "        vertical-align: middle;\n",
       "    }\n",
       "\n",
       "    .dataframe tbody tr th {\n",
       "        vertical-align: top;\n",
       "    }\n",
       "\n",
       "    .dataframe thead th {\n",
       "        text-align: right;\n",
       "    }\n",
       "</style>\n",
       "<table border=\"1\" class=\"dataframe\">\n",
       "  <thead>\n",
       "    <tr style=\"text-align: right;\">\n",
       "      <th></th>\n",
       "      <th>CreditScore</th>\n",
       "      <th>Geography</th>\n",
       "      <th>Gender</th>\n",
       "      <th>Age</th>\n",
       "      <th>NumOfYrsWithBank</th>\n",
       "      <th>Balance</th>\n",
       "      <th>NumOfProducts</th>\n",
       "      <th>HasCrCard</th>\n",
       "      <th>Closed_Acc</th>\n",
       "    </tr>\n",
       "  </thead>\n",
       "  <tbody>\n",
       "    <tr>\n",
       "      <th>0</th>\n",
       "      <td>619</td>\n",
       "      <td>France</td>\n",
       "      <td>Female</td>\n",
       "      <td>42</td>\n",
       "      <td>2</td>\n",
       "      <td>0.000000</td>\n",
       "      <td>1</td>\n",
       "      <td>1</td>\n",
       "      <td>1</td>\n",
       "    </tr>\n",
       "    <tr>\n",
       "      <th>1</th>\n",
       "      <td>608</td>\n",
       "      <td>Spain</td>\n",
       "      <td>Female</td>\n",
       "      <td>41</td>\n",
       "      <td>1</td>\n",
       "      <td>83807.860000</td>\n",
       "      <td>1</td>\n",
       "      <td>0</td>\n",
       "      <td>0</td>\n",
       "    </tr>\n",
       "    <tr>\n",
       "      <th>2</th>\n",
       "      <td>502</td>\n",
       "      <td>France</td>\n",
       "      <td>Female</td>\n",
       "      <td>42</td>\n",
       "      <td>8</td>\n",
       "      <td>159660.800000</td>\n",
       "      <td>3</td>\n",
       "      <td>1</td>\n",
       "      <td>1</td>\n",
       "    </tr>\n",
       "    <tr>\n",
       "      <th>3</th>\n",
       "      <td>699</td>\n",
       "      <td>France</td>\n",
       "      <td>Female</td>\n",
       "      <td>39</td>\n",
       "      <td>1</td>\n",
       "      <td>0.000000</td>\n",
       "      <td>2</td>\n",
       "      <td>0</td>\n",
       "      <td>0</td>\n",
       "    </tr>\n",
       "    <tr>\n",
       "      <th>4</th>\n",
       "      <td>850</td>\n",
       "      <td>Spain</td>\n",
       "      <td>Female</td>\n",
       "      <td>43</td>\n",
       "      <td>2</td>\n",
       "      <td>125510.820000</td>\n",
       "      <td>1</td>\n",
       "      <td>1</td>\n",
       "      <td>0</td>\n",
       "    </tr>\n",
       "  </tbody>\n",
       "</table>\n",
       "</div>"
      ],
      "text/plain": [
       "   CreditScore Geography  Gender  Age  NumOfYrsWithBank       Balance  \\\n",
       "0          619    France  Female   42                 2      0.000000   \n",
       "1          608     Spain  Female   41                 1  83807.860000   \n",
       "2          502    France  Female   42                 8 159660.800000   \n",
       "3          699    France  Female   39                 1      0.000000   \n",
       "4          850     Spain  Female   43                 2 125510.820000   \n",
       "\n",
       "   NumOfProducts  HasCrCard  Closed_Acc  \n",
       "0              1          1           1  \n",
       "1              1          0           0  \n",
       "2              3          1           1  \n",
       "3              2          0           0  \n",
       "4              1          1           0  "
      ]
     },
     "execution_count": 3,
     "metadata": {},
     "output_type": "execute_result"
    }
   ],
   "source": [
    "# read the data\n",
    "df_bank = pd.read_csv(\"bank_churn.csv\")\n",
    "\n",
    "# display the first five rows of the data\n",
    "df_bank.head()"
   ]
  },
  {
   "cell_type": "markdown",
   "metadata": {},
   "source": [
    "Our objective is to predict whether the customer has closed the bank account or not."
   ]
  },
  {
   "cell_type": "markdown",
   "metadata": {},
   "source": [
    "**The data definition is as follows:** <br>\n",
    "\n",
    "**CreditScore**: Credit score of the customer \n",
    "\n",
    "**Geography**: Resident country of the customer\n",
    "\n",
    "**Gender**: Gender of the customer\n",
    "\n",
    "**Age**: Age of the customer\n",
    "\n",
    "**NumOfYrsWithBank**: Years for which the customer has been with the bank\n",
    "\n",
    "**Balance**: Bank balance of the customer in Euro\n",
    "\n",
    "**NumOfProducts**: Number of bank facilities for which customer has opted\n",
    "\n",
    "**HasCrCard**: Whether the customer has credit card or not (1 = Yes, 0 = No)\n",
    "\n",
    "**Closed_Acc**: Whether the customer has closed the bank account or not (1 = Yes, 0 = No) (target/dependent variable)"
   ]
  },
  {
   "cell_type": "markdown",
   "metadata": {},
   "source": [
    "### Let's begin with some hands-on practice exercises"
   ]
  },
  {
   "cell_type": "markdown",
   "metadata": {},
   "source": [
    "<table align=\"left\">\n",
    "    <tr>\n",
    "        <td width=\"6%\">\n",
    "            <img src=\"question_icon.png\">\n",
    "        </td>\n",
    "        <td>\n",
    "            <div align=\"left\", style=\"font-size:120%\">\n",
    "                <font color=\"#21618C\">\n",
    "                    <b>1. Is the target variable imbalanced? </b>\n",
    "                </font>\n",
    "            </div>\n",
    "        </td>\n",
    "    </tr>\n",
    "</table>"
   ]
  },
  {
   "cell_type": "markdown",
   "metadata": {},
   "source": [
    "We plot a count plot of the target variable and check the proportion of binary classes."
   ]
  },
  {
   "cell_type": "code",
   "execution_count": 4,
   "metadata": {
    "scrolled": false
   },
   "outputs": [
    {
     "data": {
      "image/png": "[encoded data removed]",
      "text/plain": [
       "<Figure size 1080x576 with 1 Axes>"
      ]
     },
     "metadata": {
      "needs_background": "light"
     },
     "output_type": "display_data"
    }
   ],
   "source": [
    "# consider only the target variable\n",
    "df_target = df_bank['Closed_Acc']\n",
    "\n",
    "# get counts of 0's and 1's in the 'Closed_Acc' variable\n",
    "df_target.value_counts()\n",
    "\n",
    "# plot the countplot of the variable 'Closed_Acc'\n",
    "sns.countplot(x = df_target)\n",
    "\n",
    "# use below code to print the percentage values in the graph\n",
    "# 'x' and 'y' gives position of the text\n",
    "# 's' is the text to be printed\n",
    "plt.text(x = -0.05, y = df_target.value_counts()[0] + 20, s = str(round((df_target.value_counts()[0])*100/len(df_target),2)) + '%')\n",
    "plt.text(x = 0.95, y = df_target.value_counts()[1] + 20, s = str(round((df_target.value_counts()[1])*100/len(df_target),2)) + '%')\n",
    "\n",
    "# add plot and axes labels\n",
    "# set text size using 'fontsize'\n",
    "plt.title('Count Plot for Target Variable (Closed_Acc)', fontsize = 15)\n",
    "plt.xlabel('Target Variable', fontsize = 15)\n",
    "plt.ylabel('Count', fontsize = 15)\n",
    "\n",
    "# to show the plot\n",
    "plt.show()"
   ]
  },
  {
   "cell_type": "markdown",
   "metadata": {},
   "source": [
    "**Interpretation:** The percentage of the customers who do not close the account is 79.62% and the customers who closed the account are 20.38%. \n",
    "Thus, we can say that there is no imbalance in the target variable."
   ]
  },
  {
   "cell_type": "markdown",
   "metadata": {},
   "source": [
    "<table align=\"left\">\n",
    "    <tr>\n",
    "        <td width=\"6%\">\n",
    "            <img src=\"question_icon.png\">\n",
    "        </td>\n",
    "        <td>\n",
    "            <div align=\"left\", style=\"font-size:120%\">\n",
    "                <font color=\"#21618C\">\n",
    "                    <b>2. Build a full logistic model and calculate the odds for each variable (consider the probability  threshold as 0.25)</b>\n",
    "                </font>\n",
    "            </div>\n",
    "        </td>\n",
    "    </tr>\n",
    "</table>"
   ]
  },
  {
   "cell_type": "code",
   "execution_count": 5,
   "metadata": {
    "scrolled": false
   },
   "outputs": [
    {
     "name": "stdout",
     "output_type": "stream",
     "text": [
      "Optimization terminated successfully.\n",
      "         Current function value: 0.441849\n",
      "         Iterations 6\n"
     ]
    },
    {
     "data": {
      "text/html": [
       "<div>\n",
       "<style scoped>\n",
       "    .dataframe tbody tr th:only-of-type {\n",
       "        vertical-align: middle;\n",
       "    }\n",
       "\n",
       "    .dataframe tbody tr th {\n",
       "        vertical-align: top;\n",
       "    }\n",
       "\n",
       "    .dataframe thead th {\n",
       "        text-align: right;\n",
       "    }\n",
       "</style>\n",
       "<table border=\"1\" class=\"dataframe\">\n",
       "  <thead>\n",
       "    <tr style=\"text-align: right;\">\n",
       "      <th></th>\n",
       "      <th>Odds</th>\n",
       "    </tr>\n",
       "  </thead>\n",
       "  <tbody>\n",
       "    <tr>\n",
       "      <th>const</th>\n",
       "      <td>0.230789</td>\n",
       "    </tr>\n",
       "    <tr>\n",
       "      <th>CreditScore</th>\n",
       "      <td>0.944647</td>\n",
       "    </tr>\n",
       "    <tr>\n",
       "      <th>Age</th>\n",
       "      <td>2.042779</td>\n",
       "    </tr>\n",
       "    <tr>\n",
       "      <th>NumOfYrsWithBank</th>\n",
       "      <td>0.986998</td>\n",
       "    </tr>\n",
       "    <tr>\n",
       "      <th>Balance</th>\n",
       "      <td>1.183638</td>\n",
       "    </tr>\n",
       "    <tr>\n",
       "      <th>NumOfProducts</th>\n",
       "      <td>0.939485</td>\n",
       "    </tr>\n",
       "    <tr>\n",
       "      <th>HasCrCard</th>\n",
       "      <td>0.981084</td>\n",
       "    </tr>\n",
       "    <tr>\n",
       "      <th>Geography_Germany</th>\n",
       "      <td>2.102382</td>\n",
       "    </tr>\n",
       "    <tr>\n",
       "      <th>Geography_Spain</th>\n",
       "      <td>0.988354</td>\n",
       "    </tr>\n",
       "    <tr>\n",
       "      <th>Gender_Male</th>\n",
       "      <td>0.578571</td>\n",
       "    </tr>\n",
       "  </tbody>\n",
       "</table>\n",
       "</div>"
      ],
      "text/plain": [
       "                      Odds\n",
       "const             0.230789\n",
       "CreditScore       0.944647\n",
       "Age               2.042779\n",
       "NumOfYrsWithBank  0.986998\n",
       "Balance           1.183638\n",
       "NumOfProducts     0.939485\n",
       "HasCrCard         0.981084\n",
       "Geography_Germany 2.102382\n",
       "Geography_Spain   0.988354\n",
       "Gender_Male       0.578571"
      ]
     },
     "execution_count": 5,
     "metadata": {},
     "output_type": "execute_result"
    }
   ],
   "source": [
    "# we can ignore the probability threshold as it is not required to calculate the odds\n",
    "# consider the independent variables\n",
    "# select_dtypes: selects the variable having specified datatype\n",
    "# include: includes the variables with specified datatype\n",
    "# drop(): drops specified column(s)/row(s) from the dataframe\n",
    "# axis: specifies whether to drop labels from index or columns; use 1 for columns and 0 for index\n",
    "df_num = df_bank.select_dtypes(include=np.number).drop([\"Closed_Acc\"],axis=1)\n",
    "\n",
    "# scale all the numeric independent variables\n",
    "# initialize the standard scalar\n",
    "X_scaler = StandardScaler()\n",
    "\n",
    "# standardize all the columns of the dataframe 'df_num'\n",
    "num_scaled = X_scaler.fit_transform(df_num)\n",
    "\n",
    "# create a dataframe of scaled numerical variables\n",
    "# pass the required column names to the parameter 'columns'\n",
    "df_num_scaled = pd.DataFrame(num_scaled, columns = df_num.columns)\n",
    "\n",
    "# consider all the categorical variables in the data\n",
    "# select_dtypes: selects the variable having specified datatype\n",
    "# include: includes the variables with specified datatype\n",
    "df_cat = df_bank.select_dtypes(include=\"object\")\n",
    "\n",
    "# convert the categorical variable to dummy variable\n",
    "# get_dummies(): converts the variable to categorical variable\n",
    "# drop_first=True: indicates n-1 dummy enoding; if set to false indicated one-hot encoding\n",
    "dummy_variables = pd.get_dummies(df_cat, drop_first=True)\n",
    "\n",
    "# concatenate the scaled numerical and dummy variables\n",
    "# axis: specifies whether to drop labels from index or columns; use 1 for columns and 0 for index\n",
    "X = pd.concat([df_num_scaled, dummy_variables],axis=1)\n",
    "\n",
    "# add a constant column to the dataframe\n",
    "# while using the 'Logit' method in the Statsmodels library, the method do not consider the intercept by default\n",
    "# we can add the intercept to the set of independent variables using 'add_constant()'\n",
    "X = sm.add_constant(X)\n",
    "\n",
    "# consider the dependent variable\n",
    "y = df_bank[\"Closed_Acc\"]\n",
    "\n",
    "# split data into train subset and test subset\n",
    "# set 'random_state' to generate the same dataset each time you run the code \n",
    "# 'test_size' returns the proportion of data to be included in the testing set\n",
    "X_train, X_test, y_train, y_test = train_test_split(X, y, random_state = 1, test_size = 0.2)\n",
    "\n",
    "# build the model on train data \n",
    "# use fit() to fit the logistic regression model\n",
    "logreg_full = sm.Logit(y_train, X_train).fit()\n",
    "\n",
    "# take the exponential of the coefficient of a variable to calculate the odds\n",
    "# 'params' returns the coefficients of all the independent variables\n",
    "# pass the required column name to the parameter, 'columns'\n",
    "df_odds = pd.DataFrame(np.exp(logreg_full.params), columns= ['Odds']) \n",
    "\n",
    "# print the dataframe\n",
    "df_odds"
   ]
  },
  {
   "cell_type": "markdown",
   "metadata": {},
   "source": [
    "<table align=\"left\">\n",
    "    <tr>\n",
    "        <td width=\"6%\">\n",
    "            <img src=\"question_icon.png\">\n",
    "        </td>\n",
    "        <td>\n",
    "            <div align=\"left\", style=\"font-size:120%\">\n",
    "                <font color=\"#21618C\">\n",
    "                    <b>3. Calculate the Specificity and Sensitivity from the confusion matrix of the full model (consider the probability threshold as 0.25)\n",
    "                    </b>\n",
    "                </font>\n",
    "            </div>\n",
    "        </td>\n",
    "    </tr>\n",
    "</table>"
   ]
  },
  {
   "cell_type": "markdown",
   "metadata": {},
   "source": [
    "We consider the full model in Q2."
   ]
  },
  {
   "cell_type": "code",
   "execution_count": 6,
   "metadata": {},
   "outputs": [],
   "source": [
    "# consider a full model in Q2\n",
    "# let 'y_pred_prob' be the predicted values of y\n",
    "y_pred_prob = logreg_full.predict(X_test)\n",
    "\n",
    "# consider the cut-off probability as 0.25\n",
    "# convert probabilities to 0 and 1 using 'if_else'\n",
    "y_pred = [ 0 if x < 0.25 else 1 for x in y_pred_prob]\n",
    "\n",
    "# create a confusion matrix\n",
    "# pass the actual and predicted target values to the confusion_matrix()\n",
    "cm = confusion_matrix(y_test, y_pred)\n",
    "\n",
    "# identify each grid in confusion matrix in terms of correct and wrong predictions \n",
    "# True Negatives are denoted by 'TN'\n",
    "TN = cm[0,0]\n",
    "\n",
    "# True Positives are denoted by 'TP'\n",
    "TP = cm[1,1]\n",
    "\n",
    "# False Positives are denoted by 'FP'\n",
    "FP = cm[0,1]\n",
    "\n",
    "# False Negatives are denoted by 'FN'\n",
    "FN = cm[1,0]"
   ]
  },
  {
   "cell_type": "markdown",
   "metadata": {},
   "source": [
    "**Sensitivity:**"
   ]
  },
  {
   "cell_type": "code",
   "execution_count": 7,
   "metadata": {},
   "outputs": [
    {
     "data": {
      "text/plain": [
       "0.5849514563106796"
      ]
     },
     "execution_count": 7,
     "metadata": {},
     "output_type": "execute_result"
    }
   ],
   "source": [
    "# calculate the sensitivity\n",
    "sensitivity = TP / (TP+FN)\n",
    "\n",
    "# print the value\n",
    "sensitivity"
   ]
  },
  {
   "cell_type": "markdown",
   "metadata": {},
   "source": [
    "**Specificity:** "
   ]
  },
  {
   "cell_type": "code",
   "execution_count": 8,
   "metadata": {},
   "outputs": [
    {
     "data": {
      "text/plain": [
       "0.8072519083969466"
      ]
     },
     "execution_count": 8,
     "metadata": {},
     "output_type": "execute_result"
    }
   ],
   "source": [
    "# calculate the specificity \n",
    "specificity = TN / (TN+FP)\n",
    "\n",
    "# print the value\n",
    "specificity"
   ]
  },
  {
   "cell_type": "markdown",
   "metadata": {},
   "source": [
    "<table align=\"left\">\n",
    "    <tr>\n",
    "        <td width=\"6%\">\n",
    "            <img src=\"question_icon.png\">\n",
    "        </td>\n",
    "        <td>\n",
    "            <div align=\"left\", style=\"font-size:120%\">\n",
    "                <font color=\"#21618C\">\n",
    "                    <b>4. Build a logistic model on the 6 features obtained by RFE and plot the ROC curve \n",
    "                    </b>\n",
    "                </font>\n",
    "            </div>\n",
    "        </td>\n",
    "    </tr>\n",
    "</table>"
   ]
  },
  {
   "cell_type": "code",
   "execution_count": 9,
   "metadata": {},
   "outputs": [
    {
     "name": "stdout",
     "output_type": "stream",
     "text": [
      "Index(['CreditScore', 'Age', 'Balance', 'NumOfProducts', 'Geography_Germany',\n",
      "       'Gender_Male'],\n",
      "      dtype='object')\n"
     ]
    }
   ],
   "source": [
    "# consider the independent variables (without the intercept term)\n",
    "# as, X_train and X_test contains the intercept term\n",
    "# use 'iloc' to select the variables wthout intercept term \n",
    "X_train_rfe = X_train.iloc[:,1:]\n",
    "X_test_rfe = X_test.iloc[:,1:]\n",
    "\n",
    "# initiate logistic regression model \n",
    "logreg = LogisticRegression()\n",
    "\n",
    "# build the RFE model\n",
    "# pass the logistic regression model to 'estimator'\n",
    "# pass number of required features to 'n_features_to_select'\n",
    "# if we do not pass the number of features, RFE considers half of the features\n",
    "rfe_model = RFE(estimator = logreg, n_features_to_select = 6)\n",
    "\n",
    "# fit the RFE model on the train dataset using fit()\n",
    "rfe_model = rfe_model.fit(X_train_rfe, y_train)\n",
    "\n",
    "# create a series containing feature and its corresponding rank obtained from RFE\n",
    "# 'ranking_' returns the rank of each variable after applying RFE\n",
    "# pass the ranks as the 'data' of a series\n",
    "# 'index' assigns feature names as index of a series \n",
    "feat_index = pd.Series(data = rfe_model.ranking_, index = X_train_rfe.columns)\n",
    "\n",
    "# select the features with rank = 1\n",
    "# 'index' returns the indices of a series (i.e. features with rank=1) \n",
    "signi_feat_rfe = feat_index[feat_index==1].index\n",
    "\n",
    "# print the significant features obtained from RFE\n",
    "print(signi_feat_rfe)"
   ]
  },
  {
   "cell_type": "markdown",
   "metadata": {},
   "source": [
    "#### Build the logisitc regression model using the variables obtained from RFE."
   ]
  },
  {
   "cell_type": "code",
   "execution_count": 10,
   "metadata": {},
   "outputs": [
    {
     "name": "stdout",
     "output_type": "stream",
     "text": [
      "Optimization terminated successfully.\n",
      "         Current function value: 0.441889\n",
      "         Iterations 6\n",
      "                           Logit Regression Results                           \n",
      "==============================================================================\n",
      "Dep. Variable:             Closed_Acc   No. Observations:                 7936\n",
      "Model:                          Logit   Df Residuals:                     7929\n",
      "Method:                           MLE   Df Model:                            6\n",
      "Date:                Wed, 09 Jun 2021   Pseudo R-squ.:                  0.1239\n",
      "Time:                        14:20:18   Log-Likelihood:                -3506.8\n",
      "converged:                       True   LL-Null:                       -4002.6\n",
      "Covariance Type:            nonrobust   LLR p-value:                6.066e-211\n",
      "=====================================================================================\n",
      "                        coef    std err          z      P>|z|      [0.025      0.975]\n",
      "-------------------------------------------------------------------------------------\n",
      "const                -1.4691      0.048    -30.640      0.000      -1.563      -1.375\n",
      "CreditScore          -0.0570      0.030     -1.893      0.058      -0.116       0.002\n",
      "Age                   0.7145      0.029     24.481      0.000       0.657       0.772\n",
      "Balance               0.1691      0.036      4.754      0.000       0.099       0.239\n",
      "NumOfProducts        -0.0624      0.030     -2.071      0.038      -0.121      -0.003\n",
      "Geography_Germany     0.7453      0.070     10.716      0.000       0.609       0.882\n",
      "Gender_Male          -0.5477      0.060     -9.092      0.000      -0.666      -0.430\n",
      "=====================================================================================\n"
     ]
    }
   ],
   "source": [
    "# build the model on train data (X_train and y_train)\n",
    "# use fit() to fit the logistic regression model\n",
    "# consider the variables obtained from RFE method and the intercept term\n",
    "logreg_rfe = sm.Logit(y_train, X_train[['const', 'CreditScore', 'Age', 'Balance', 'NumOfProducts', 'Geography_Germany',\n",
    "                                        'Gender_Male']]).fit()\n",
    "\n",
    "# print the summary of the model\n",
    "print(logreg_rfe.summary())"
   ]
  },
  {
   "cell_type": "markdown",
   "metadata": {},
   "source": [
    "**Do predictions on the test set.**"
   ]
  },
  {
   "cell_type": "code",
   "execution_count": 11,
   "metadata": {
    "colab": {},
    "colab_type": "code",
    "id": "UP5DA9_qebpC",
    "scrolled": true
   },
   "outputs": [],
   "source": [
    "# let 'y_pred_prob_rfe' be the predicted values of y\n",
    "y_pred_prob_rfe = logreg_rfe.predict(X_test[['const', 'CreditScore', 'Age', 'Balance', 'NumOfProducts', 'Geography_Germany',\n",
    "                                             'Gender_Male']])"
   ]
  },
  {
   "cell_type": "markdown",
   "metadata": {},
   "source": [
    "#### Plot the ROC curve."
   ]
  },
  {
   "cell_type": "code",
   "execution_count": 12,
   "metadata": {
    "colab": {},
    "colab_type": "code",
    "id": "Edtmcgdlebpe"
   },
   "outputs": [
    {
     "data": {
      "image/png": "[encoded data removed]",
      "text/plain": [
       "<Figure size 1080x576 with 1 Axes>"
      ]
     },
     "metadata": {
      "needs_background": "light"
     },
     "output_type": "display_data"
    }
   ],
   "source": [
    "# the roc_curve() returns the values for false positive rate, true positive rate and threshold\n",
    "# pass the actual target values and predicted probabilities to the function\n",
    "fpr, tpr, thresholds = roc_curve(y_test, y_pred_prob_rfe)\n",
    "\n",
    "# plot the ROC curve\n",
    "plt.plot(fpr, tpr)\n",
    "\n",
    "# set limits for x and y axes\n",
    "plt.xlim([0.0, 1.0])\n",
    "plt.ylim([0.0, 1.0])\n",
    "\n",
    "# plot the straight line showing worst prediction for the model\n",
    "plt.plot([0, 1], [0, 1],'r--')\n",
    "\n",
    "# add plot and axes labels\n",
    "# set text size using 'fontsize'\n",
    "plt.title('ROC curve for Customer Churn Prediction Classifier (RFE Model)', fontsize = 15)\n",
    "plt.xlabel('False positive rate (1-Specificity)', fontsize = 15)\n",
    "plt.ylabel('True positive rate (Sensitivity)', fontsize = 15)\n",
    "\n",
    "# plot the grid\n",
    "plt.grid(True)"
   ]
  },
  {
   "cell_type": "code",
   "execution_count": 14,
   "metadata": {},
   "outputs": [
    {
     "data": {
      "text/plain": [
       "array([1.85392336, 0.85392336, 0.84833355, 0.8149782 , 0.79517984,\n",
       "       0.79092923, 0.77520696, 0.74195687, 0.72922735, 0.72658081,\n",
       "       0.71259145, 0.70314235, 0.70205383, 0.6929375 , 0.68940739,\n",
       "       0.68929451, 0.68543635, 0.67525107, 0.6711899 , 0.66773484,\n",
       "       0.65344632, 0.65315074, 0.640775  , 0.63946019, 0.63590972,\n",
       "       0.63545667, 0.6338523 , 0.63196156, 0.62663098, 0.62645925,\n",
       "       0.62602377, 0.6229892 , 0.62213375, 0.62095678, 0.60661104,\n",
       "       0.59595631, 0.59427187, 0.58940839, 0.58815311, 0.58564951,\n",
       "       0.58125392, 0.57891006, 0.57718285, 0.57544656, 0.57409668,\n",
       "       0.56936459, 0.56481624, 0.55836087, 0.55664728, 0.55335878,\n",
       "       0.55221425, 0.55067443, 0.54920346, 0.5429222 , 0.54054659,\n",
       "       0.54054471, 0.53718478, 0.5363471 , 0.53427088, 0.53328659,\n",
       "       0.53295504, 0.53270521, 0.53150894, 0.53138195, 0.52896492,\n",
       "       0.52842109, 0.52778042, 0.52755183, 0.52687859, 0.52425777,\n",
       "       0.52326074, 0.51360744, 0.51124348, 0.51102678, 0.51068213,\n",
       "       0.50987815, 0.50917091, 0.50422739, 0.50014885, 0.50011874,\n",
       "       0.49900306, 0.4988813 , 0.4988503 , 0.4902833 , 0.48925115,\n",
       "       0.48781658, 0.48587317, 0.47164529, 0.47155768, 0.47094693,\n",
       "       0.46925008, 0.46578045, 0.46368159, 0.46165262, 0.45850667,\n",
       "       0.45507682, 0.45404474, 0.45192131, 0.45101833, 0.45004735,\n",
       "       0.44865074, 0.4447933 , 0.44317502, 0.44219553, 0.4395693 ,\n",
       "       0.43791214, 0.43755062, 0.43520733, 0.43436121, 0.43375489,\n",
       "       0.432337  , 0.43226918, 0.43152242, 0.43131222, 0.43103102,\n",
       "       0.4300767 , 0.42981527, 0.42900015, 0.42613956, 0.42538495,\n",
       "       0.42283001, 0.41967115, 0.41881472, 0.41553389, 0.41532578,\n",
       "       0.41377377, 0.41045762, 0.40886545, 0.40664923, 0.40628571,\n",
       "       0.40543086, 0.40511785, 0.40458601, 0.40410306, 0.40321473,\n",
       "       0.40210859, 0.40135121, 0.39835599, 0.39604336, 0.39314494,\n",
       "       0.39266993, 0.39127571, 0.39044558, 0.38829033, 0.38707686,\n",
       "       0.38624634, 0.38248341, 0.38236642, 0.37917581, 0.37842408,\n",
       "       0.37642941, 0.37523049, 0.37522648, 0.37450577, 0.37386595,\n",
       "       0.37293829, 0.37074809, 0.36942769, 0.36647987, 0.36601807,\n",
       "       0.36512848, 0.36356377, 0.36010289, 0.35896357, 0.3572122 ,\n",
       "       0.35672632, 0.35619854, 0.35558499, 0.35558168, 0.35471925,\n",
       "       0.35401465, 0.35326345, 0.35275551, 0.3515751 , 0.35067794,\n",
       "       0.34957088, 0.34835234, 0.3483205 , 0.34385105, 0.34282169,\n",
       "       0.34236726, 0.33606111, 0.33413587, 0.33198302, 0.33129615,\n",
       "       0.33004222, 0.3290299 , 0.32876815, 0.32632721, 0.32414084,\n",
       "       0.32191773, 0.31990433, 0.31882359, 0.31824729, 0.31807132,\n",
       "       0.31735541, 0.31465701, 0.31378497, 0.31337293, 0.31145211,\n",
       "       0.30868215, 0.3078011 , 0.30696644, 0.30616936, 0.30327877,\n",
       "       0.30290544, 0.30031966, 0.30004318, 0.29839518, 0.29714058,\n",
       "       0.29636833, 0.29592454, 0.2952344 , 0.29505231, 0.29417816,\n",
       "       0.29388353, 0.29243627, 0.29133871, 0.29087559, 0.29025553,\n",
       "       0.28384827, 0.28363225, 0.28318172, 0.28253356, 0.28193842,\n",
       "       0.28087588, 0.28061009, 0.27932278, 0.27855808, 0.27833223,\n",
       "       0.27807335, 0.27620381, 0.2751767 , 0.27480638, 0.27426808,\n",
       "       0.2739763 , 0.27346462, 0.2726452 , 0.27223695, 0.27141933,\n",
       "       0.27077494, 0.27047932, 0.26954997, 0.26799751, 0.26707326,\n",
       "       0.26696937, 0.26579364, 0.26260353, 0.26253161, 0.26214803,\n",
       "       0.26036798, 0.25982249, 0.25961386, 0.2595327 , 0.25880745,\n",
       "       0.25875457, 0.25854135, 0.25833227, 0.25799934, 0.25776094,\n",
       "       0.25577352, 0.25528681, 0.25524008, 0.25347205, 0.25312156,\n",
       "       0.25296141, 0.24927824, 0.24902331, 0.2445563 , 0.24395716,\n",
       "       0.24034405, 0.24030278, 0.23968774, 0.23921601, 0.23824438,\n",
       "       0.23676971, 0.23641469, 0.23607657, 0.23508153, 0.23465577,\n",
       "       0.23343504, 0.23342251, 0.23308638, 0.23283012, 0.23085261,\n",
       "       0.23069928, 0.22952047, 0.22912115, 0.22763912, 0.22701432,\n",
       "       0.2267132 , 0.22664863, 0.22599104, 0.2257284 , 0.22469575,\n",
       "       0.22415074, 0.22305483, 0.22255803, 0.22204202, 0.22127446,\n",
       "       0.21649479, 0.21641032, 0.21491743, 0.21486681, 0.21410692,\n",
       "       0.2133158 , 0.21330496, 0.21324997, 0.2131125 , 0.21276066,\n",
       "       0.21242899, 0.21239231, 0.21165132, 0.21160479, 0.21089073,\n",
       "       0.20962308, 0.20891861, 0.20875594, 0.20754787, 0.20753839,\n",
       "       0.20635693, 0.20554366, 0.20527507, 0.20489253, 0.20451465,\n",
       "       0.20426476, 0.20372294, 0.20365086, 0.20334692, 0.20331713,\n",
       "       0.20298519, 0.20276428, 0.20032307, 0.20027215, 0.20000089,\n",
       "       0.19990336, 0.19889877, 0.19880815, 0.19861931, 0.19814914,\n",
       "       0.19790305, 0.19780595, 0.19618583, 0.19605889, 0.19535405,\n",
       "       0.19527934, 0.19458439, 0.19393474, 0.19369479, 0.19267472,\n",
       "       0.19029996, 0.19012024, 0.18901321, 0.18875867, 0.18855464,\n",
       "       0.18853349, 0.18848904, 0.1884684 , 0.18840023, 0.18807428,\n",
       "       0.18684632, 0.18680348, 0.1866507 , 0.18658033, 0.18589185,\n",
       "       0.18540284, 0.18495041, 0.18429478, 0.1838277 , 0.18350264,\n",
       "       0.18002362, 0.17999849, 0.17804554, 0.17793016, 0.17779429,\n",
       "       0.17771295, 0.17727431, 0.17710584, 0.17594602, 0.17582828,\n",
       "       0.1743898 , 0.17432873, 0.17241539, 0.17211902, 0.17197242,\n",
       "       0.17165235, 0.16824218, 0.16790904, 0.16680357, 0.1667914 ,\n",
       "       0.16334716, 0.16302309, 0.16283284, 0.16239378, 0.16071602,\n",
       "       0.16066129, 0.16018315, 0.1601486 , 0.15999243, 0.15979899,\n",
       "       0.1591822 , 0.15886737, 0.15759376, 0.15755546, 0.15608983,\n",
       "       0.15590094, 0.15494981, 0.15475508, 0.15397413, 0.15387946,\n",
       "       0.15184558, 0.15179505, 0.15119449, 0.15091345, 0.14916984,\n",
       "       0.1485726 , 0.14595032, 0.14566297, 0.14483996, 0.14461584,\n",
       "       0.14444989, 0.14379473, 0.14213766, 0.14202556, 0.1419405 ,\n",
       "       0.14180614, 0.14048241, 0.14041045, 0.14003031, 0.13995066,\n",
       "       0.13927317, 0.13918448, 0.13658166, 0.13643878, 0.1364307 ,\n",
       "       0.13635118, 0.13590895, 0.13586126, 0.13584226, 0.13577233,\n",
       "       0.13487501, 0.13484648, 0.1347453 , 0.13461676, 0.13433482,\n",
       "       0.13422639, 0.13316353, 0.13307173, 0.13191535, 0.1317071 ,\n",
       "       0.13127817, 0.13120287, 0.13034055, 0.13014705, 0.12953561,\n",
       "       0.1294877 , 0.1291909 , 0.1291665 , 0.12908389, 0.12900866,\n",
       "       0.12864856, 0.12855231, 0.12752774, 0.12717097, 0.12480968,\n",
       "       0.12467882, 0.12412083, 0.12407207, 0.12309289, 0.12306765,\n",
       "       0.12296468, 0.12294106, 0.12113305, 0.12066794, 0.12043188,\n",
       "       0.1203237 , 0.11739149, 0.11727996, 0.11712946, 0.11688184,\n",
       "       0.1150499 , 0.1150307 , 0.11501579, 0.1148527 , 0.11312326,\n",
       "       0.11299177, 0.11296981, 0.11294729, 0.11192076, 0.11169631,\n",
       "       0.1113316 , 0.11129572, 0.11123377, 0.11110691, 0.10863673,\n",
       "       0.10853722, 0.10463337, 0.10439734, 0.10425276, 0.10424146,\n",
       "       0.10242081, 0.10240282, 0.10170689, 0.10159637, 0.10034995,\n",
       "       0.1000922 , 0.09999736, 0.09998157, 0.099573  , 0.09924132,\n",
       "       0.09885738, 0.09884387, 0.09794189, 0.09792868, 0.09696901,\n",
       "       0.09685829, 0.09165735, 0.09161275, 0.09160623, 0.09152979,\n",
       "       0.08990524, 0.08946526, 0.08539992, 0.08525857, 0.08052422,\n",
       "       0.07946353, 0.07775194, 0.07773223, 0.07376841, 0.07374846,\n",
       "       0.07206347, 0.07202937, 0.06943564, 0.06938601, 0.06475616,\n",
       "       0.06472305, 0.06196581, 0.06163678, 0.06061203, 0.06045184,\n",
       "       0.05708411, 0.05705396, 0.0557341 , 0.05567993, 0.05504675,\n",
       "       0.05479327, 0.05324336, 0.05272385, 0.05106553, 0.05095355,\n",
       "       0.04730921, 0.04708979, 0.03005573, 0.02923622, 0.02099784])"
      ]
     },
     "execution_count": 14,
     "metadata": {},
     "output_type": "execute_result"
    }
   ],
   "source": [
    "thresholds"
   ]
  },
  {
   "cell_type": "markdown",
   "metadata": {},
   "source": [
    "<table align=\"left\">\n",
    "    <tr>\n",
    "        <td width=\"6%\">\n",
    "            <img src=\"question_icon.png\">\n",
    "        </td>\n",
    "        <td>\n",
    "            <div align=\"left\", style=\"font-size:120%\">\n",
    "                <font color=\"#21618C\">\n",
    "                    <b>5. Obtain the optimal value of cut-off probability for the full model using the Youden's index \n",
    "                    </b>\n",
    "                </font>\n",
    "            </div>\n",
    "        </td>\n",
    "    </tr>\n",
    "</table>"
   ]
  },
  {
   "cell_type": "code",
   "execution_count": 13,
   "metadata": {},
   "outputs": [
    {
     "data": {
      "text/html": [
       "<div>\n",
       "<style scoped>\n",
       "    .dataframe tbody tr th:only-of-type {\n",
       "        vertical-align: middle;\n",
       "    }\n",
       "\n",
       "    .dataframe tbody tr th {\n",
       "        vertical-align: top;\n",
       "    }\n",
       "\n",
       "    .dataframe thead th {\n",
       "        text-align: right;\n",
       "    }\n",
       "</style>\n",
       "<table border=\"1\" class=\"dataframe\">\n",
       "  <thead>\n",
       "    <tr style=\"text-align: right;\">\n",
       "      <th></th>\n",
       "      <th>TPR</th>\n",
       "      <th>FPR</th>\n",
       "      <th>Threshold</th>\n",
       "      <th>Difference</th>\n",
       "    </tr>\n",
       "  </thead>\n",
       "  <tbody>\n",
       "    <tr>\n",
       "      <th>0</th>\n",
       "      <td>0.745146</td>\n",
       "      <td>0.324427</td>\n",
       "      <td>0.183503</td>\n",
       "      <td>0.420718</td>\n",
       "    </tr>\n",
       "    <tr>\n",
       "      <th>1</th>\n",
       "      <td>0.742718</td>\n",
       "      <td>0.323155</td>\n",
       "      <td>0.184295</td>\n",
       "      <td>0.419563</td>\n",
       "    </tr>\n",
       "    <tr>\n",
       "      <th>2</th>\n",
       "      <td>0.742718</td>\n",
       "      <td>0.324427</td>\n",
       "      <td>0.183828</td>\n",
       "      <td>0.418291</td>\n",
       "    </tr>\n",
       "    <tr>\n",
       "      <th>3</th>\n",
       "      <td>0.718447</td>\n",
       "      <td>0.301527</td>\n",
       "      <td>0.192675</td>\n",
       "      <td>0.416920</td>\n",
       "    </tr>\n",
       "    <tr>\n",
       "      <th>4</th>\n",
       "      <td>0.737864</td>\n",
       "      <td>0.321883</td>\n",
       "      <td>0.185403</td>\n",
       "      <td>0.415981</td>\n",
       "    </tr>\n",
       "  </tbody>\n",
       "</table>\n",
       "</div>"
      ],
      "text/plain": [
       "       TPR      FPR  Threshold  Difference\n",
       "0 0.745146 0.324427   0.183503    0.420718\n",
       "1 0.742718 0.323155   0.184295    0.419563\n",
       "2 0.742718 0.324427   0.183828    0.418291\n",
       "3 0.718447 0.301527   0.192675    0.416920\n",
       "4 0.737864 0.321883   0.185403    0.415981"
      ]
     },
     "execution_count": 13,
     "metadata": {},
     "output_type": "execute_result"
    }
   ],
   "source": [
    "# use the full model in Q2\n",
    "# let 'y_pred_prob' be the predicted values of y\n",
    "y_pred_prob = logreg_full.predict(X_test)\n",
    "\n",
    "# obtain the values for false positive rate, true positive rate and threshold\n",
    "# pass the actual target values and predicted probabilities to the function\n",
    "fpr, tpr, thresholds = roc_curve(y_test, y_pred_prob)\n",
    "\n",
    "# create a dataframe to store the values for false positive rate, true positive rate and threshold\n",
    "youdens_table = pd.DataFrame({'TPR': tpr,\n",
    "                             'FPR': fpr,\n",
    "                             'Threshold': thresholds})\n",
    "\n",
    "# calculate the difference between TPR and FPR for each threshold and store the values in a new column 'Difference'\n",
    "youdens_table['Difference'] = youdens_table.TPR - youdens_table.FPR\n",
    "\n",
    "# sort the dataframe based on the values of difference \n",
    "# 'ascending = False' sorts the data in descending order\n",
    "# 'reset_index' resets the index of the dataframe\n",
    "# 'drop = True' drops the previous index\n",
    "youdens_table = youdens_table.sort_values('Difference', ascending = False).reset_index(drop = True)\n",
    "\n",
    "# print the first five observations\n",
    "youdens_table.head()"
   ]
  },
  {
   "cell_type": "markdown",
   "metadata": {},
   "source": [
    "**Interpretation:** The above output shows that the maximum difference in TPR and FPR is corresponding to the cut-off value `0.183503`. Thus, we can consider this value as the optimal value for cut-off."
   ]
  },
  {
   "cell_type": "markdown",
   "metadata": {},
   "source": [
    "<table align=\"left\">\n",
    "    <tr>\n",
    "        <td width=\"6%\">\n",
    "            <img src=\"question_icon.png\">\n",
    "        </td>\n",
    "        <td>\n",
    "            <div align=\"left\", style=\"font-size:120%\">\n",
    "                <font color=\"#21618C\">\n",
    "                    <b>6. Consider the cut-off probability obtained from Youden's index for the full model and calculate the following measures:<br>\n",
    "                    a. f-1 score <br>\n",
    "                    b. Accuracy<br>\n",
    "                    c. Kappa Score\n",
    "                    </b>\n",
    "                </font>\n",
    "            </div>\n",
    "        </td>\n",
    "    </tr>\n",
    "</table>"
   ]
  },
  {
   "cell_type": "code",
   "execution_count": 14,
   "metadata": {},
   "outputs": [],
   "source": [
    "# consider a full model in Q2\n",
    "# let 'y_pred_prob' be the predicted values of y\n",
    "y_pred_prob = logreg_full.predict(X_test)\n",
    "\n",
    "# consider the cut-off probability obtained from Youden's index (i.e. 0.18)\n",
    "# convert probabilities to 0 and 1 using 'if_else'\n",
    "y_pred = [ 0 if x < 0.18 else 1 for x in y_pred_prob]"
   ]
  },
  {
   "cell_type": "markdown",
   "metadata": {},
   "source": [
    "We can calculate the performance measures like `f-1 score` and `Accuracy` using the `classification_report()`"
   ]
  },
  {
   "cell_type": "code",
   "execution_count": 15,
   "metadata": {
    "scrolled": false
   },
   "outputs": [
    {
     "name": "stdout",
     "output_type": "stream",
     "text": [
      "              precision    recall  f1-score   support\n",
      "\n",
      "           0       0.91      0.66      0.77      1572\n",
      "           1       0.37      0.75      0.49       412\n",
      "\n",
      "    accuracy                           0.68      1984\n",
      "   macro avg       0.64      0.70      0.63      1984\n",
      "weighted avg       0.80      0.68      0.71      1984\n",
      "\n"
     ]
    }
   ],
   "source": [
    "# calculate various performance measures\n",
    "acc_table = classification_report(y_test, y_pred)\n",
    "\n",
    "# print the table\n",
    "print(acc_table)"
   ]
  },
  {
   "cell_type": "markdown",
   "metadata": {},
   "source": [
    "**Interpretation:** From the above output, we can see that the model with cut-off = 0.18 is 68% accurate. Also, the f-1 score for the positive and negative class is 0.49 and 0.77 respectively."
   ]
  },
  {
   "cell_type": "markdown",
   "metadata": {},
   "source": [
    "**Kappa Score**"
   ]
  },
  {
   "cell_type": "code",
   "execution_count": 16,
   "metadata": {},
   "outputs": [
    {
     "name": "stdout",
     "output_type": "stream",
     "text": [
      "kappa value: 0.2968273378394721\n"
     ]
    }
   ],
   "source": [
    "# compute the kappa value\n",
    "kappa = cohen_kappa_score(y_test, y_pred)\n",
    "\n",
    "# print the kappa value\n",
    "print('kappa value:',kappa)"
   ]
  },
  {
   "cell_type": "markdown",
   "metadata": {},
   "source": [
    "**Interpretation:** As the kappa score for the full model (with cut-off probability 0.18) is 0.2968, we can say that there is a fair agreement between the actual and predicted values."
   ]
  },
  {
   "cell_type": "markdown",
   "metadata": {},
   "source": [
    "<table align=\"left\">\n",
    "    <tr>\n",
    "        <td width=\"6%\">\n",
    "            <img src=\"question_icon.png\">\n",
    "        </td>\n",
    "        <td>\n",
    "            <div align=\"left\", style=\"font-size:120%\">\n",
    "                <font color=\"#21618C\">\n",
    "                    <b>7. Identify the variables involved in multicollinearity \n",
    "                    </b>\n",
    "                </font>\n",
    "            </div>\n",
    "        </td>\n",
    "    </tr>\n",
    "</table>"
   ]
  },
  {
   "cell_type": "code",
   "execution_count": 17,
   "metadata": {},
   "outputs": [
    {
     "data": {
      "text/html": [
       "<div>\n",
       "<style scoped>\n",
       "    .dataframe tbody tr th:only-of-type {\n",
       "        vertical-align: middle;\n",
       "    }\n",
       "\n",
       "    .dataframe tbody tr th {\n",
       "        vertical-align: top;\n",
       "    }\n",
       "\n",
       "    .dataframe thead th {\n",
       "        text-align: right;\n",
       "    }\n",
       "</style>\n",
       "<table border=\"1\" class=\"dataframe\">\n",
       "  <thead>\n",
       "    <tr style=\"text-align: right;\">\n",
       "      <th></th>\n",
       "      <th>Features</th>\n",
       "      <th>VIF</th>\n",
       "    </tr>\n",
       "  </thead>\n",
       "  <tbody>\n",
       "    <tr>\n",
       "      <th>0</th>\n",
       "      <td>CreditScore</td>\n",
       "      <td>19.674404</td>\n",
       "    </tr>\n",
       "    <tr>\n",
       "      <th>1</th>\n",
       "      <td>Age</td>\n",
       "      <td>12.585069</td>\n",
       "    </tr>\n",
       "    <tr>\n",
       "      <th>2</th>\n",
       "      <td>NumOfYrsWithBank</td>\n",
       "      <td>3.851630</td>\n",
       "    </tr>\n",
       "    <tr>\n",
       "      <th>3</th>\n",
       "      <td>Balance</td>\n",
       "      <td>2.620344</td>\n",
       "    </tr>\n",
       "    <tr>\n",
       "      <th>4</th>\n",
       "      <td>NumOfProducts</td>\n",
       "      <td>7.665322</td>\n",
       "    </tr>\n",
       "    <tr>\n",
       "      <th>5</th>\n",
       "      <td>HasCrCard</td>\n",
       "      <td>3.289933</td>\n",
       "    </tr>\n",
       "  </tbody>\n",
       "</table>\n",
       "</div>"
      ],
      "text/plain": [
       "           Features       VIF\n",
       "0       CreditScore 19.674404\n",
       "1               Age 12.585069\n",
       "2  NumOfYrsWithBank  3.851630\n",
       "3           Balance  2.620344\n",
       "4     NumOfProducts  7.665322\n",
       "5         HasCrCard  3.289933"
      ]
     },
     "execution_count": 17,
     "metadata": {},
     "output_type": "execute_result"
    }
   ],
   "source": [
    "# create an empty dataframe to store the VIF for each variable\n",
    "vif = pd.DataFrame()\n",
    "\n",
    "# select_dtypes: selects the variable having specified datatype\n",
    "# include: includes the variables with specified datatype\n",
    "# drop(): drops specified column(s)/row(s) from the dataframe\n",
    "# axis: specifies whether to drop labels from index or columns; use 1 for columns and 0 for index\n",
    "df_num = df_bank.select_dtypes(include=np.number).drop([\"Closed_Acc\"],axis=1)\n",
    "\n",
    "# create a column of variable names\n",
    "vif[\"Features\"] = df_num.columns\n",
    "\n",
    "# calculate VIF using list comprehension \n",
    "# use for loop to access each variable \n",
    "# calculate VIF for each variable and create a column 'VIF' to store the values \n",
    "vif[\"VIF\"] = [variance_inflation_factor(df_num.values, i) for i in range(df_num.shape[1])]\n",
    "\n",
    "# print the dataframe \n",
    "vif"
   ]
  },
  {
   "cell_type": "markdown",
   "metadata": {},
   "source": [
    "Here we consider the threshold as 5. Hence, if VIF > 5 the corresponding variable is involved in multicollinearity. Thus, in this dataset the variables `CreditScore`, `Age` and `NumOfProducts` are involved in multicollinearity. \n",
    "\n",
    "But as we remove the variable with highest VIF, the VIF of other variables decreases and even become less than 5. Thus, we remove the variable with highest VIF and calculate the VIF for remaining variables; and repeat this procedure until we get all the variables with VIF < 5."
   ]
  },
  {
   "cell_type": "code",
   "execution_count": 18,
   "metadata": {},
   "outputs": [
    {
     "data": {
      "text/html": [
       "<div>\n",
       "<style scoped>\n",
       "    .dataframe tbody tr th:only-of-type {\n",
       "        vertical-align: middle;\n",
       "    }\n",
       "\n",
       "    .dataframe tbody tr th {\n",
       "        vertical-align: top;\n",
       "    }\n",
       "\n",
       "    .dataframe thead th {\n",
       "        text-align: right;\n",
       "    }\n",
       "</style>\n",
       "<table border=\"1\" class=\"dataframe\">\n",
       "  <thead>\n",
       "    <tr style=\"text-align: right;\">\n",
       "      <th></th>\n",
       "      <th>Features</th>\n",
       "      <th>VIF</th>\n",
       "    </tr>\n",
       "  </thead>\n",
       "  <tbody>\n",
       "    <tr>\n",
       "      <th>0</th>\n",
       "      <td>Age</td>\n",
       "      <td>8.463241</td>\n",
       "    </tr>\n",
       "    <tr>\n",
       "      <th>1</th>\n",
       "      <td>NumOfYrsWithBank</td>\n",
       "      <td>3.643830</td>\n",
       "    </tr>\n",
       "    <tr>\n",
       "      <th>2</th>\n",
       "      <td>Balance</td>\n",
       "      <td>2.399719</td>\n",
       "    </tr>\n",
       "    <tr>\n",
       "      <th>3</th>\n",
       "      <td>NumOfProducts</td>\n",
       "      <td>5.993526</td>\n",
       "    </tr>\n",
       "    <tr>\n",
       "      <th>4</th>\n",
       "      <td>HasCrCard</td>\n",
       "      <td>3.141698</td>\n",
       "    </tr>\n",
       "  </tbody>\n",
       "</table>\n",
       "</div>"
      ],
      "text/plain": [
       "           Features      VIF\n",
       "0               Age 8.463241\n",
       "1  NumOfYrsWithBank 3.643830\n",
       "2           Balance 2.399719\n",
       "3     NumOfProducts 5.993526\n",
       "4         HasCrCard 3.141698"
      ]
     },
     "execution_count": 18,
     "metadata": {},
     "output_type": "execute_result"
    }
   ],
   "source": [
    "# drop the 'CreditScore', as it has the highest VIF\n",
    "# drop(): drops specified column(s)/row(s) from the dataframe\n",
    "# axis: specifies whether to drop labels from index or columns; use 1 for columns and 0 for index\n",
    "df_num = df_num.drop('CreditScore', axis = 1)\n",
    "\n",
    "# create an empty dataframe to store the VIF for each variable\n",
    "vif = pd.DataFrame()\n",
    "\n",
    "# calculate the VIF for remaining variables\n",
    "# create a column of variable names\n",
    "vif[\"Features\"] = df_num.columns\n",
    "\n",
    "# calculate VIF using list comprehension \n",
    "# use for loop to access each variable \n",
    "# calculate VIF for each variable and create a column 'VIF' to store the values \n",
    "vif[\"VIF\"] = [variance_inflation_factor(df_num.values, i) for i in range(df_num.shape[1])]\n",
    "\n",
    "# print the dataframe \n",
    "vif"
   ]
  },
  {
   "cell_type": "markdown",
   "metadata": {},
   "source": [
    "From the above output, we can see that the VIF of remaining variables is decreased. Now, as the variable `Age` has highest VIF; remove the variable and check the VIF of remaining variables."
   ]
  },
  {
   "cell_type": "code",
   "execution_count": 19,
   "metadata": {},
   "outputs": [
    {
     "data": {
      "text/html": [
       "<div>\n",
       "<style scoped>\n",
       "    .dataframe tbody tr th:only-of-type {\n",
       "        vertical-align: middle;\n",
       "    }\n",
       "\n",
       "    .dataframe tbody tr th {\n",
       "        vertical-align: top;\n",
       "    }\n",
       "\n",
       "    .dataframe thead th {\n",
       "        text-align: right;\n",
       "    }\n",
       "</style>\n",
       "<table border=\"1\" class=\"dataframe\">\n",
       "  <thead>\n",
       "    <tr style=\"text-align: right;\">\n",
       "      <th></th>\n",
       "      <th>Features</th>\n",
       "      <th>VIF</th>\n",
       "    </tr>\n",
       "  </thead>\n",
       "  <tbody>\n",
       "    <tr>\n",
       "      <th>0</th>\n",
       "      <td>NumOfYrsWithBank</td>\n",
       "      <td>3.364968</td>\n",
       "    </tr>\n",
       "    <tr>\n",
       "      <th>1</th>\n",
       "      <td>Balance</td>\n",
       "      <td>2.029603</td>\n",
       "    </tr>\n",
       "    <tr>\n",
       "      <th>2</th>\n",
       "      <td>NumOfProducts</td>\n",
       "      <td>3.889969</td>\n",
       "    </tr>\n",
       "    <tr>\n",
       "      <th>3</th>\n",
       "      <td>HasCrCard</td>\n",
       "      <td>2.948593</td>\n",
       "    </tr>\n",
       "  </tbody>\n",
       "</table>\n",
       "</div>"
      ],
      "text/plain": [
       "           Features      VIF\n",
       "0  NumOfYrsWithBank 3.364968\n",
       "1           Balance 2.029603\n",
       "2     NumOfProducts 3.889969\n",
       "3         HasCrCard 2.948593"
      ]
     },
     "execution_count": 19,
     "metadata": {},
     "output_type": "execute_result"
    }
   ],
   "source": [
    "# drop the 'Age', as it has the highest VIF\n",
    "# drop(): drops specified column(s)/row(s) from the dataframe\n",
    "# axis: specifies whether to drop labels from index or columns; use 1 for columns and 0 for index\n",
    "df_num = df_num.drop('Age', axis = 1)\n",
    "\n",
    "# create an empty dataframe to store the VIF for each variable\n",
    "vif = pd.DataFrame()\n",
    "\n",
    "# calculate the VIF for remaining variables\n",
    "# create a column of variable names\n",
    "vif[\"Features\"] = df_num.columns\n",
    "\n",
    "# calculate VIF using list comprehension \n",
    "# use for loop to access each variable \n",
    "# calculate VIF for each variable and create a column 'VIF' to store the values \n",
    "vif[\"VIF\"] = [variance_inflation_factor(df_num.values, i) for i in range(df_num.shape[1])]\n",
    "\n",
    "# print the dataframe \n",
    "vif"
   ]
  },
  {
   "cell_type": "markdown",
   "metadata": {},
   "source": [
    "**Interpretation:** All the above four variables have VIF < 5. Thus, we can say that the variables `CreditScore` and `Age` are involved in multicollinearity."
   ]
  },
  {
   "cell_type": "markdown",
   "metadata": {},
   "source": [
    "<table align=\"left\">\n",
    "    <tr>\n",
    "        <td width=\"6%\">\n",
    "            <img src=\"question_icon.png\">\n",
    "        </td>\n",
    "        <td>\n",
    "            <div align=\"left\", style=\"font-size:120%\">\n",
    "                <font color=\"#21618C\">\n",
    "                    <b>8. Build a logistic regression model using the categorical variables and the variables obtained after calculating VIF. Also, plot the ROC curve and compute the AUC score (consider the cut-off probability as 0.6)\n",
    "                    </b>\n",
    "                </font>\n",
    "            </div>\n",
    "        </td>\n",
    "    </tr>\n",
    "</table>"
   ]
  },
  {
   "cell_type": "code",
   "execution_count": 20,
   "metadata": {},
   "outputs": [
    {
     "name": "stdout",
     "output_type": "stream",
     "text": [
      "Optimization terminated successfully.\n",
      "         Current function value: 0.482807\n",
      "         Iterations 6\n"
     ]
    }
   ],
   "source": [
    "# consider the numeric variables obtained after VIF calculation\n",
    "df_num = df_bank[['NumOfYrsWithBank', 'Balance', 'NumOfProducts', 'HasCrCard']]\n",
    "\n",
    "# scale all the numeric independent variables\n",
    "# initialize the standard scalar\n",
    "X_scaler = StandardScaler()\n",
    "\n",
    "# standardize all the columns of the dataframe 'df_num'\n",
    "num_scaled = X_scaler.fit_transform(df_num)\n",
    "\n",
    "# create a dataframe of scaled numerical variables\n",
    "# pass the required column names to the parameter 'columns'\n",
    "df_num_scaled = pd.DataFrame(num_scaled, columns = df_num.columns)\n",
    "\n",
    "# consider all the categorical variables in the data\n",
    "# select_dtypes: selects the variable having specified datatype\n",
    "# include: includes the variables with specified datatype\n",
    "df_cat = df_bank.select_dtypes(include=\"object\")\n",
    "\n",
    "# convert the categorical variable to dummy variable\n",
    "# get_dummies(): converts the variable to categorical variable\n",
    "# drop_first=True: indicates n-1 dummy enoding; if set to false indicated one-hot encoding\n",
    "dummy_variables = pd.get_dummies(df_cat, drop_first=True)\n",
    "\n",
    "# concatenate the scaled numerical and dummy variables\n",
    "# axis: specifies whether to drop labels from index or columns; use 1 for columns and 0 for index\n",
    "X = pd.concat([df_num_scaled, dummy_variables],axis=1)\n",
    "\n",
    "# add a constant column to the dataframe\n",
    "# while using the 'Logit' method in the Statsmodels library, the method do not consider the intercept by default\n",
    "# we can add the intercept to the set of independent variables using 'add_constant()'\n",
    "X = sm.add_constant(X)\n",
    "\n",
    "# consider the dependent variable\n",
    "y = df_bank[\"Closed_Acc\"]\n",
    "\n",
    "# split data into train subset and test subset\n",
    "# set 'random_state' to generate the same dataset each time you run the code \n",
    "# 'test_size' returns the proportion of data to be included in the testing set\n",
    "X_train_vif, X_test_vif, y_train, y_test = train_test_split(X, y, random_state=1, test_size = 0.2)\n",
    "\n",
    "# build the model on train data \n",
    "# use fit() to fit the logistic regression model\n",
    "logreg_vif = sm.Logit(y_train, X_train_vif).fit()"
   ]
  },
  {
   "cell_type": "markdown",
   "metadata": {},
   "source": [
    "**Do predictions on the test set.**"
   ]
  },
  {
   "cell_type": "code",
   "execution_count": 21,
   "metadata": {
    "colab": {},
    "colab_type": "code",
    "id": "UP5DA9_qebpC",
    "scrolled": true
   },
   "outputs": [],
   "source": [
    "# let 'y_pred_prob_rfe' be the predicted values of y\n",
    "y_pred_prob_vif = logreg_vif.predict(X_test_vif)"
   ]
  },
  {
   "cell_type": "code",
   "execution_count": 22,
   "metadata": {},
   "outputs": [
    {
     "data": {
      "image/png": "[encoded data removed]",
      "text/plain": [
       "<Figure size 1080x576 with 1 Axes>"
      ]
     },
     "metadata": {},
     "output_type": "display_data"
    }
   ],
   "source": [
    "# the roc_curve() returns the values for false positive rate, true positive rate and threshold\n",
    "# pass the actual target values and predicted probabilities to the function\n",
    "fpr, tpr, thresholds = roc_curve(y_test, y_pred_prob_vif)\n",
    "\n",
    "# plot the ROC curve\n",
    "plt.plot(fpr, tpr)\n",
    "\n",
    "# set limits for x and y axes\n",
    "plt.xlim([0.0, 1.0])\n",
    "plt.ylim([0.0, 1.0])\n",
    "\n",
    "# plot the straight line showing worst prediction for the model\n",
    "plt.plot([0, 1], [0, 1],'r--')\n",
    "\n",
    "# add plot and axes labels\n",
    "# set text size using 'fontsize'\n",
    "plt.title('ROC curve for Admission Prediction Classifier (RFE Model)', fontsize = 15)\n",
    "plt.xlabel('False positive rate (1-Specificity)', fontsize = 15)\n",
    "plt.ylabel('True positive rate (Sensitivity)', fontsize = 15)\n",
    "\n",
    "# add the AUC score to the plot\n",
    "# 'x' and 'y' gives position of the text\n",
    "# 's' is the text \n",
    "# use round() to round-off the AUC score upto 4 digits\n",
    "plt.text(x = 0.02, y = 0.9, s = ('AUC Score:',round(metrics.roc_auc_score(y_test, y_pred_prob_vif),4)))\n",
    "                               \n",
    "# plot the grid\n",
    "plt.grid(True)"
   ]
  },
  {
   "cell_type": "markdown",
   "metadata": {},
   "source": [
    "<table align=\"left\">\n",
    "    <tr>\n",
    "        <td width=\"6%\">\n",
    "            <img src=\"question_icon.png\">\n",
    "        </td>\n",
    "        <td>\n",
    "            <div align=\"left\", style=\"font-size:120%\">\n",
    "                <font color=\"#21618C\">\n",
    "                    <b>9. Consider the costs of false negatives and false positives as 2 and 0.5 respectively to obtain the optimal cut-off probability for which the total cost will be minimum\n",
    "                    </b>\n",
    "                </font>\n",
    "            </div>\n",
    "        </td>\n",
    "    </tr>\n",
    "</table>"
   ]
  },
  {
   "cell_type": "code",
   "execution_count": 23,
   "metadata": {},
   "outputs": [],
   "source": [
    "# define a function to calculate the total_cost for a cut-off value\n",
    "# pass the actual values of y, predicted probabilities of y, cost for FN and FP\n",
    "def calculate_total_cost(actual_value, predicted_value, cost_FN, cost_FP):\n",
    "\n",
    "    # pass the actual and predicted values to calculate the confusion matrix\n",
    "    cm = confusion_matrix(actual_value, predicted_value)           \n",
    "    \n",
    "    # create an array of the confusion matrix\n",
    "    cm_array = np.array(cm)\n",
    "    \n",
    "    # return the total_cost\n",
    "    return cm_array[1,0] * cost_FN + cm_array[0,1] * cost_FP\n",
    "\n",
    "# create an empty dataframe to store the cost for different probability cut-offs\n",
    "df_total_cost = pd.DataFrame(columns = ['cut-off', 'total_cost'])\n",
    "\n",
    "# initialize i to '0' corresponding to the 1st row in the dataframe\n",
    "i = 0\n",
    "\n",
    "# use for loop to calculate 'total_cost' for each cut-off probability value\n",
    "# call the function 'calculate_total_cost' to calculate the cost\n",
    "# pass the actual y-values\n",
    "# calculate the predicted y-values from 'y_pred_prob' for the cut-off probability value\n",
    "# assign the costs 2 and 0.4 to False Negatives and False Positives respectively\n",
    "# add the obtained 'cut_off' and 'total_cost' at the ith index of the dataframe\n",
    "for cut_off in range(10, 50):\n",
    "    total_cost = calculate_total_cost(y_test,  y_pred_prob.map(lambda x: 1 if x > (cut_off/100) else 0), 2, 0.5) \n",
    "    df_total_cost.loc[i] = [(cut_off/100), total_cost] \n",
    "    \n",
    "    # increment the value of 'i' for each row index in the dataframe 'df_total_cost'\n",
    "    i += 1"
   ]
  },
  {
   "cell_type": "code",
   "execution_count": 24,
   "metadata": {},
   "outputs": [
    {
     "data": {
      "text/html": [
       "<div>\n",
       "<style scoped>\n",
       "    .dataframe tbody tr th:only-of-type {\n",
       "        vertical-align: middle;\n",
       "    }\n",
       "\n",
       "    .dataframe tbody tr th {\n",
       "        vertical-align: top;\n",
       "    }\n",
       "\n",
       "    .dataframe thead th {\n",
       "        text-align: right;\n",
       "    }\n",
       "</style>\n",
       "<table border=\"1\" class=\"dataframe\">\n",
       "  <thead>\n",
       "    <tr style=\"text-align: right;\">\n",
       "      <th></th>\n",
       "      <th>cut-off</th>\n",
       "      <th>total_cost</th>\n",
       "    </tr>\n",
       "  </thead>\n",
       "  <tbody>\n",
       "    <tr>\n",
       "      <th>9</th>\n",
       "      <td>0.190000</td>\n",
       "      <td>472.000000</td>\n",
       "    </tr>\n",
       "    <tr>\n",
       "      <th>8</th>\n",
       "      <td>0.180000</td>\n",
       "      <td>474.000000</td>\n",
       "    </tr>\n",
       "    <tr>\n",
       "      <th>10</th>\n",
       "      <td>0.200000</td>\n",
       "      <td>480.000000</td>\n",
       "    </tr>\n",
       "    <tr>\n",
       "      <th>7</th>\n",
       "      <td>0.170000</td>\n",
       "      <td>480.000000</td>\n",
       "    </tr>\n",
       "    <tr>\n",
       "      <th>11</th>\n",
       "      <td>0.210000</td>\n",
       "      <td>488.000000</td>\n",
       "    </tr>\n",
       "  </tbody>\n",
       "</table>\n",
       "</div>"
      ],
      "text/plain": [
       "    cut-off  total_cost\n",
       "9  0.190000  472.000000\n",
       "8  0.180000  474.000000\n",
       "10 0.200000  480.000000\n",
       "7  0.170000  480.000000\n",
       "11 0.210000  488.000000"
      ]
     },
     "execution_count": 24,
     "metadata": {},
     "output_type": "execute_result"
    }
   ],
   "source": [
    "# sort the dataframe based on the 'total_cost' in the ascending order\n",
    "# print the first five rows in the dataframe\n",
    "df_total_cost.sort_values('total_cost', ascending = True).head()"
   ]
  },
  {
   "cell_type": "markdown",
   "metadata": {},
   "source": [
    "**Interpretation:** From the above output we can see that, for the cut-off probability `0.19` the total cost is minimum."
   ]
  },
  {
   "cell_type": "markdown",
   "metadata": {},
   "source": [
    "<table align=\"left\">\n",
    "    <tr>\n",
    "        <td width=\"6%\">\n",
    "            <img src=\"question_icon.png\">\n",
    "        </td>\n",
    "        <td>\n",
    "            <div align=\"left\", style=\"font-size:120%\">\n",
    "                <font color=\"#21618C\">\n",
    "                    <b>10. Build a full logistic model using the optimal cut-off probability obtained in Q9. Also, plot the confusion matrix and ROC curve along with the AUC score  \n",
    "                    </b>\n",
    "                </font>\n",
    "            </div>\n",
    "        </td>\n",
    "    </tr>\n",
    "</table>"
   ]
  },
  {
   "cell_type": "markdown",
   "metadata": {},
   "source": [
    "Let us consider the full model in the Q2."
   ]
  },
  {
   "cell_type": "code",
   "execution_count": 25,
   "metadata": {},
   "outputs": [],
   "source": [
    "# consider a full model in Q2\n",
    "# let 'y_pred_prob' be the predicted values of y\n",
    "y_pred_prob = logreg_full.predict(X_test)\n",
    "\n",
    "# consider the optimal cut-off probability obtained in Q9 (i.e. 0.19)\n",
    "# convert probabilities to 0 and 1 using 'if_else'\n",
    "y_pred = [ 0 if x < 0.19 else 1 for x in y_pred_prob]"
   ]
  },
  {
   "cell_type": "markdown",
   "metadata": {},
   "source": [
    "#### Plot the confusion matrix."
   ]
  },
  {
   "cell_type": "code",
   "execution_count": 26,
   "metadata": {
    "colab": {},
    "colab_type": "code",
    "id": "Av39nL7SebpS",
    "outputId": "eb72d174-cce1-49f2-abcc-b8a6111b2008"
   },
   "outputs": [
    {
     "data": {
      "image/png": "[encoded data removed]",
      "text/plain": [
       "<Figure size 1080x576 with 1 Axes>"
      ]
     },
     "metadata": {},
     "output_type": "display_data"
    }
   ],
   "source": [
    "# create a confusion matrix\n",
    "# pass the actual and predicted target values to the confusion_matrix()\n",
    "cm = confusion_matrix(y_test, y_pred)\n",
    "\n",
    "# label the confusion matrix  \n",
    "# pass the matrix as 'data'\n",
    "# pass the required column names to the parameter, 'columns'\n",
    "# pass the required row names to the parameter, 'index'\n",
    "conf_matrix = pd.DataFrame(data = cm,columns = ['Predicted:0','Predicted:1'], index = ['Actual:0','Actual:1'])\n",
    "\n",
    "# plot a heatmap to visualize the confusion matrix\n",
    "# 'annot' prints the value of each grid \n",
    "# 'fmt = d' returns the integer value in each grid\n",
    "# 'cmap' assigns color to each grid\n",
    "# as we do not require different colors for each grid in the heatmap,\n",
    "# use 'ListedColormap' to assign the specified color to the grid\n",
    "# 'cbar = False' will not return the color bar to the right side of the heatmap\n",
    "# 'linewidths' assigns the width to the line that divides each grid\n",
    "# 'annot_kws = {'size':25})' assigns the font size of the annotated text \n",
    "sns.heatmap(conf_matrix, annot = True, fmt = 'd', cmap = ListedColormap(['lightskyblue']), cbar = False, \n",
    "            linewidths = 0.1, annot_kws = {'size':25})\n",
    "\n",
    "# set the font size of x-axis ticks using 'fontsize'\n",
    "plt.xticks(fontsize = 20)\n",
    "\n",
    "# set the font size of y-axis ticks using 'fontsize'\n",
    "plt.yticks(fontsize = 20)\n",
    "\n",
    "# display the plot\n",
    "plt.show()"
   ]
  },
  {
   "cell_type": "markdown",
   "metadata": {},
   "source": [
    "**Interpretation:** The confusion matrix shows that the model correctly predicts the account status of 1385 customers out of 1984. "
   ]
  },
  {
   "cell_type": "markdown",
   "metadata": {},
   "source": [
    "#### Plot the ROC curve."
   ]
  },
  {
   "cell_type": "code",
   "execution_count": 27,
   "metadata": {
    "colab": {},
    "colab_type": "code",
    "id": "Edtmcgdlebpe",
    "scrolled": false
   },
   "outputs": [
    {
     "data": {
      "image/png": "[encoded data removed]",
      "text/plain": [
       "<Figure size 1080x576 with 1 Axes>"
      ]
     },
     "metadata": {},
     "output_type": "display_data"
    }
   ],
   "source": [
    "# the roc_curve() returns the values for false positive rate, true positive rate and threshold\n",
    "# pass the actual target values and predicted probabilities to the function\n",
    "fpr, tpr, thresholds = roc_curve(y_test, y_pred_prob)\n",
    "\n",
    "# plot the ROC curve\n",
    "plt.plot(fpr, tpr)\n",
    "\n",
    "# set limits for x and y axes\n",
    "plt.xlim([0.0, 1.0])\n",
    "plt.ylim([0.0, 1.0])\n",
    "\n",
    "# plot the straight line showing worst prediction for the model\n",
    "plt.plot([0, 1], [0, 1],'r--')\n",
    "\n",
    "# add plot and axes labels\n",
    "# set text size using 'fontsize'\n",
    "plt.title('ROC curve for Admission Prediction Classifier (RFE Model)', fontsize = 15)\n",
    "plt.xlabel('False positive rate (1-Specificity)', fontsize = 15)\n",
    "plt.ylabel('True positive rate (Sensitivity)', fontsize = 15)\n",
    "\n",
    "# add the AUC score to the plot\n",
    "# 'x' and 'y' gives position of the text\n",
    "# 's' is the text \n",
    "# use round() to round-off the AUC score upto 4 digits\n",
    "plt.text(x = 0.02, y = 0.9, s = ('AUC Score:',round(metrics.roc_auc_score(y_test, y_pred_prob),4)))\n",
    "                               \n",
    "# plot the grid\n",
    "plt.grid(True)"
   ]
  },
  {
   "cell_type": "markdown",
   "metadata": {},
   "source": [
    "**Interpretation:** The red dotted line represents the ROC curve of a purely random classifier; a good classifier stays as far away from that line as possible (toward the top-left corner).<br>\n",
    "From the above plot, we can see that our classifier is away from the dotted line; with the AUC score 0.7602"
   ]
  }
 ],
 "metadata": {
  "kernelspec": {
   "display_name": "Python 3",
   "language": "python",
   "name": "python3"
  },
  "language_info": {
   "codemirror_mode": {
    "name": "ipython",
    "version": 3
   },
   "file_extension": ".py",
   "mimetype": "text/x-python",
   "name": "python",
   "nbconvert_exporter": "python",
   "pygments_lexer": "ipython3",
   "version": "3.8.5"
  }
 },
 "nbformat": 4,
 "nbformat_minor": 2
}
